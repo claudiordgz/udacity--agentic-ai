{
 "cells": [
  {
   "cell_type": "markdown",
   "id": "6fdd0bcb",
   "metadata": {},
   "source": [
    "# Udaplay Project"
   ]
  },
  {
   "cell_type": "markdown",
   "id": "9325b035",
   "metadata": {},
   "source": [
    "## Part 01 - Offline RAG\n",
    "\n",
    "In this part of the project, you'll build your VectorDB using Chroma.\n",
    "\n",
    "The data is inside folder `project/starter/games`. Each file will become a document in the collection you'll create.\n",
    "Example.:\n",
    "```json\n",
    "{\n",
    "  \"Name\": \"Gran Turismo\",\n",
    "  \"Platform\": \"PlayStation 1\",\n",
    "  \"Genre\": \"Racing\",\n",
    "  \"Publisher\": \"Sony Computer Entertainment\",\n",
    "  \"Description\": \"A realistic racing simulator featuring a wide array of cars and tracks, setting a new standard for the genre.\",\n",
    "  \"YearOfRelease\": 1997\n",
    "}\n",
    "```\n"
   ]
  },
  {
   "cell_type": "markdown",
   "id": "2b42de90",
   "metadata": {},
   "source": [
    "### Setup"
   ]
  },
  {
   "cell_type": "code",
   "execution_count": 1,
   "id": "61283b25",
   "metadata": {},
   "outputs": [],
   "source": [
    "# Only needed for Udacity workspace\n",
    "\n",
    "import importlib.util\n",
    "import sys\n",
    "\n",
    "# Check if 'pysqlite3' is available before importing\n",
    "if importlib.util.find_spec(\"pysqlite3\") is not None:\n",
    "    import pysqlite3\n",
    "    sys.modules['sqlite3'] = sys.modules.pop('pysqlite3')"
   ]
  },
  {
   "cell_type": "code",
   "execution_count": 2,
   "id": "a8d56169",
   "metadata": {},
   "outputs": [],
   "source": [
    "import os\n",
    "from typing import List\n",
    "from dotenv import load_dotenv\n",
    "\n",
    "from lib.vector_db import VectorStore, VectorStoreManager, CorpusLoaderService"
   ]
  },
  {
   "cell_type": "code",
   "execution_count": 3,
   "id": "87e465d4",
   "metadata": {},
   "outputs": [
    {
     "data": {
      "text/plain": [
       "False"
      ]
     },
     "execution_count": 3,
     "metadata": {},
     "output_type": "execute_result"
    }
   ],
   "source": [
    "load_dotenv()"
   ]
  },
  {
   "cell_type": "code",
   "execution_count": 4,
   "id": "3f444800-0aec-4a82-815b-5111c58a47ab",
   "metadata": {},
   "outputs": [],
   "source": [
    "OPENAI_API_KEY = os.getenv(\"OPENAI_API_KEY\")"
   ]
  },
  {
   "cell_type": "markdown",
   "id": "27de4729",
   "metadata": {},
   "source": [
    "### VectorDB Instance"
   ]
  },
  {
   "cell_type": "markdown",
   "id": "e37c34ed-872b-46c9-8317-f9e182c0840a",
   "metadata": {},
   "source": [
    "#### How VectorStoreManager and CorpusLoaderService work\n",
    "- **VectorStoreManager**: wraps a Chroma client and configures the OpenAI embedding function. It uses `OPENAI_BASE_URL` (defaulting to Vocareum) and `CHROMA_EMBED_MODEL` for embeddings, and exposes `get_or_create_store(name)` to return a Chroma collection wrapped as a `VectorStore`.\n",
    "- **VectorStore (wrapper)**: provides `add(...)`, `query(...)`, and `get(...)` on top of a Chroma collection, handling conversion from our `Document`/`Corpus` types to Chroma’s batch format and including metadatas.\n",
    "- **CorpusLoaderService**: orchestrates ingestion. For JSON, `load_json_dir(store_name, path)` builds a `Corpus` of `Document`s via `JSONLoader` (content = normalized summary; metadata = full JSON), then calls `store.add(corpus)`. Each insert triggers automatic embedding via the collection’s embedding function, so future `query(...)` runs cosine-similarity search over those vectors.\n",
    "\n",
    "This separation lets you swap loaders (PDF/JSON/CSV) without changing vector DB code, and keeps Chroma + embeddings configuration centralized in one place.\n"
   ]
  },
  {
   "cell_type": "code",
   "execution_count": 5,
   "id": "b25c36dd",
   "metadata": {},
   "outputs": [
    {
     "data": {
      "text/plain": [
       "VectorStoreManager():<chromadb.api.client.Client object at 0x1146f42f0>"
      ]
     },
     "execution_count": 5,
     "metadata": {},
     "output_type": "execute_result"
    }
   ],
   "source": [
    "db = VectorStoreManager(OPENAI_API_KEY)\n",
    "db"
   ]
  },
  {
   "cell_type": "markdown",
   "id": "df844b3b",
   "metadata": {},
   "source": [
    "### Collection"
   ]
  },
  {
   "cell_type": "code",
   "execution_count": 6,
   "id": "b28ae6bd-f201-4ec8-89f8-585a3b9108c1",
   "metadata": {},
   "outputs": [],
   "source": [
    "# loader function looks as follows\n",
    "def load_json_dir(self, store_name: str, json_path_or_dir: str) -> VectorStore:\n",
    "    \"\"\"\n",
    "    Load JSON file(s) into a vector store.\n",
    "\n",
    "    If a directory is provided, all *.json files are loaded. Otherwise, a\n",
    "    single JSON file is loaded. Each JSON record becomes one Document with\n",
    "    flattened content and full metadata preserved.\n",
    "\n",
    "    Args:\n",
    "        store_name (str): Name of the vector store to create or use\n",
    "        json_path_or_dir (str): Path to a JSON file or directory of JSON files\n",
    "\n",
    "    Returns:\n",
    "        VectorStore: The vector store containing the loaded JSON content\n",
    "    \"\"\"\n",
    "    store = self.manager.get_or_create_store(store_name)\n",
    "    print(f\"VectorStore `{store_name}` ready!\")\n",
    "\n",
    "    loader = JSONLoader(json_path_or_dir)\n",
    "    corpus = loader.load()\n",
    "    store.add(corpus)\n",
    "    print(f\"JSON loaded from `{json_path_or_dir}`!\")\n",
    "\n",
    "    return store"
   ]
  },
  {
   "cell_type": "code",
   "execution_count": 7,
   "id": "31c56281",
   "metadata": {},
   "outputs": [
    {
     "name": "stdout",
     "output_type": "stream",
     "text": [
      "VectorStore `games_market` ready!\n",
      "JSON loaded from `./games`!\n"
     ]
    }
   ],
   "source": [
    "loader_service = CorpusLoaderService(db)\n",
    "games_store = loader_service.load_json_dir(\n",
    "    store_name=\"games_market\",\n",
    "    json_path_or_dir=\"./games\"\n",
    ")"
   ]
  },
  {
   "cell_type": "markdown",
   "id": "0540e4ae-1ab4-4893-a0a9-18f47e0fcd41",
   "metadata": {},
   "source": [
    "### Demo\n",
    "\n",
    "The following is an example of a query on the Vector Store Database."
   ]
  },
  {
   "cell_type": "code",
   "execution_count": 8,
   "id": "55b4bf90-7242-46da-8617-06c49ff75198",
   "metadata": {},
   "outputs": [],
   "source": [
    "query_text = \"best racing game on PlayStation around 1997\"\n",
    "results = games_store.query(\n",
    "    query_texts=[query_text],\n",
    "    n_results=5,\n",
    "    where={\"Platform\": \"PlayStation 1\"} \n",
    ")"
   ]
  },
  {
   "cell_type": "code",
   "execution_count": 9,
   "id": "5905ae60-071d-4fb9-b4b5-4c1e65839a69",
   "metadata": {},
   "outputs": [
    {
     "name": "stdout",
     "output_type": "stream",
     "text": [
      "similarity≈0.743 | Gran Turismo (1997) [PlayStation 1]\n",
      "Name: Gran Turismo\n",
      "Platform: PlayStation 1\n",
      "Genre: Racing\n",
      "Publisher: Sony Computer Entertainment\n",
      "Year: 1997\n",
      "Description:  ...\n",
      "\n"
     ]
    }
   ],
   "source": [
    "docs = results[\"documents\"][0]\n",
    "metas = results[\"metadatas\"][0]\n",
    "dists = results[\"distances\"][0]\n",
    "\n",
    "for doc, meta, dist in zip(docs, metas, dists):\n",
    "    print(f\"similarity≈{1 - dist:.3f} | {meta.get('Name')} ({meta.get('YearOfRelease')}) [{meta.get('Platform')}]\")\n",
    "    print(doc[:120], \"...\\n\")"
   ]
  },
  {
   "cell_type": "markdown",
   "id": "cb88ca70",
   "metadata": {},
   "source": [
    "\n"
   ]
  },
  {
   "cell_type": "code",
   "execution_count": null,
   "id": "d24a3a74-3ba7-4f9b-8e6f-63a96a9b30e0",
   "metadata": {},
   "outputs": [],
   "source": []
  }
 ],
 "metadata": {
  "kernelspec": {
   "display_name": "Python 3 (ipykernel)",
   "language": "python",
   "name": "python3"
  },
  "language_info": {
   "codemirror_mode": {
    "name": "ipython",
    "version": 3
   },
   "file_extension": ".py",
   "mimetype": "text/x-python",
   "name": "python",
   "nbconvert_exporter": "python",
   "pygments_lexer": "ipython3",
   "version": "3.13.1"
  }
 },
 "nbformat": 4,
 "nbformat_minor": 5
}
