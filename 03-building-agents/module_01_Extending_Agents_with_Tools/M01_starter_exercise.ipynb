{
 "cells": [
  {
   "cell_type": "markdown",
   "id": "541a5c9c",
   "metadata": {},
   "source": [
    "# [STARTER] Exercise - Building an AI Agent with Tools\n",
    "\n",
    "In this exercise, you'll build an AI agent that can use tools to enhance its capabilities. You'll learn how to create an agent that can understand when to use tools, process their results, and maintain a coherent conversation."
   ]
  },
  {
   "cell_type": "markdown",
   "id": "0918d12a",
   "metadata": {},
   "source": [
    "## Challenge\n",
    "\n",
    "Imagine you're building a smart coding assistant that needs to:\n",
    "- Answer programming questions\n",
    "- Execute code snippets\n",
    "- Look up documentation\n",
    "- Perform calculations\n",
    "- Search through codebases\n",
    "\n",
    "Instead of hard-coding when to use each capability, your agent should intelligently decide when and how to use its available tools."
   ]
  },
  {
   "cell_type": "markdown",
   "id": "9b9c89db",
   "metadata": {},
   "source": [
    "## Setup\n",
    "First, let's import the necessary libraries:"
   ]
  },
  {
   "cell_type": "code",
   "execution_count": 1,
   "id": "e18dfaec-f443-433b-898a-f36a76a17975",
   "metadata": {},
   "outputs": [],
   "source": [
    "from pathlib import Path\n",
    "import sys\n",
    "\n",
    "nb_dir = Path(__file__).parent if \"__file__\" in globals() else Path.cwd()\n",
    "parent = nb_dir.parent  # points to 03-building-agents\n",
    "if str(parent) not in sys.path:\n",
    "    sys.path.insert(0, str(parent))"
   ]
  },
  {
   "cell_type": "code",
   "execution_count": 2,
   "id": "a220d2bf",
   "metadata": {},
   "outputs": [],
   "source": [
    "from typing import List, Dict, Any\n",
    "from dotenv import load_dotenv\n",
    "from copy import deepcopy\n",
    "import json\n",
    "\n",
    "from lib.messages import UserMessage, SystemMessage, ToolMessage\n",
    "from lib.tooling import tool\n",
    "from lib.llm import LLM"
   ]
  },
  {
   "cell_type": "markdown",
   "id": "a4cec412",
   "metadata": {},
   "source": [
    "## Understanding the Components\n",
    "\n",
    "Before we build our agent, let's understand the key components we'll be working with:\n",
    "\n",
    "- `LLM`: The language model wrapper that handles tool execution\n",
    "- `SystemMessage`: Defines the agent's role and behavior\n",
    "- `UserMessage`: Represents user inputs\n",
    "- `ToolMessage`: Contains tool execution results\n",
    "- `tool`: Decorator for creating tools"
   ]
  },
  {
   "cell_type": "markdown",
   "id": "a92058e5",
   "metadata": {},
   "source": [
    "## Building the Agent Class\n",
    "\n",
    "Your task is to create an Agent class that can:\n",
    "1. Initialize with a specific role and set of tools\n",
    "2. Process user messages\n",
    "3. Decide when to use tools\n",
    "4. Handle tool responses"
   ]
  },
  {
   "cell_type": "code",
   "execution_count": 3,
   "id": "2f95460f",
   "metadata": {},
   "outputs": [],
   "source": [
    "class Agent:\n",
    "    \"\"\"An AI Agent that can use tools to help answer questions\"\"\"\n",
    "    \n",
    "    def __init__(\n",
    "        self,\n",
    "        role: str = \"Personal Assistant\",\n",
    "        instructions: str = \"Help users with any question\",\n",
    "        model: str = \"gpt-4o-mini\",\n",
    "        temperature: float = 0.0,\n",
    "        tools: List[Any] = None\n",
    "    ):\n",
    "        \"\"\"Initialize the agent with its configuration and tools\"\"\"\n",
    "        # TODO 1: Initialize the agent\n",
    "        # Hint: \n",
    "        # - Load environment variables with load_dotenv()\n",
    "        # - Store agent settings (role, instructions, etc.)\n",
    "        # - Create an LLM instance with the provided tools\n",
    "        self.role = role\n",
    "        self.instructions = instructions\n",
    "        self.model = model\n",
    "        self.temperature = temperature\n",
    "        self.tools = tools\n",
    "\n",
    "        load_dotenv()\n",
    "\n",
    "        self.llm = LLM(model=model, temperature=temperature, tools=tools)\n",
    "        \n",
    "\n",
    "    def invoke(self, user_message: str) -> str:\n",
    "        \"\"\"Process a user message and return a response\"\"\"\n",
    "        # TODO 2: Set up the conversation\n",
    "        # Hint:\n",
    "        # - Create messages list with SystemMessage (role + instructions)\n",
    "        # - Add UserMessage with user_message\n",
    "        # - Get initial AI response using self.llm.invoke()\n",
    "        messages = [\n",
    "            SystemMessage(\n",
    "                content=(\n",
    "                    f\"You're an AI Agent and your role is {self.role}\"\n",
    "                    f\"Your instructions: {self.instructions}\"\n",
    "                )\n",
    "            )\n",
    "        ]\n",
    "        messages.append(UserMessage(content=user_message))\n",
    "        ai_message = self.llm.invoke(messages)\n",
    "        messages.append(ai_message)\n",
    "\n",
    "        # TODO 3: Handle tool calls if needed\n",
    "        # Hint:\n",
    "        # - Check if ai_message.tool_calls exists\n",
    "        # - For each tool call:\n",
    "        #   * Get function name and arguments\n",
    "        #   * Execute tool and get result\n",
    "        #   * Add result as ToolMessage\n",
    "        # - Get final AI response\n",
    "        while ai_message.tool_calls:\n",
    "            for call in ai_message.tool_calls:\n",
    "                function_name = call.function.name\n",
    "                function_args = json.loads(call.function.arguments)\n",
    "                tool_call_id = call.id\n",
    "\n",
    "                tool = next((t for t in self.tools if t.name == function_name), None)\n",
    "                if tool:\n",
    "                    result = tool(**function_args)\n",
    "                    messages.append(\n",
    "                        ToolMessage(\n",
    "                            content=json.dumps(result),\n",
    "                            tool_call_id=tool_call_id,\n",
    "                            name=function_name,\n",
    "                        )\n",
    "                    )\n",
    "            ai_message = self.llm.invoke(messages)\n",
    "            messages.append(ai_message)\n",
    "\n",
    "        for m in messages:\n",
    "            print(m)\n",
    "        return ai_message.content"
   ]
  },
  {
   "cell_type": "markdown",
   "id": "cda3c9b8",
   "metadata": {},
   "source": [
    "## Testing Your Agent\n",
    "\n",
    "Once you've implemented the Agent class, test it with different scenarios:"
   ]
  },
  {
   "cell_type": "markdown",
   "id": "0cef22d6",
   "metadata": {},
   "source": [
    "1. Basic conversation without tools"
   ]
  },
  {
   "cell_type": "code",
   "execution_count": 4,
   "id": "5fdf9fa0",
   "metadata": {},
   "outputs": [
    {
     "name": "stdout",
     "output_type": "stream",
     "text": [
      "role='system' content=\"You're an AI Agent and your role is Coding AssistantYour instructions: Help users with any question\"\n",
      "role='user' content='What is Python? Be concise'\n",
      "role='assistant' content='Python is a high-level, interpreted programming language known for its readability and simplicity. It supports multiple programming paradigms, including procedural, object-oriented, and functional programming. Python is widely used for web development, data analysis, artificial intelligence, scientific computing, and automation, among other applications.' tool_calls=None\n",
      "Python is a high-level, interpreted programming language known for its readability and simplicity. It supports multiple programming paradigms, including procedural, object-oriented, and functional programming. Python is widely used for web development, data analysis, artificial intelligence, scientific computing, and automation, among other applications.\n"
     ]
    }
   ],
   "source": [
    "agent = Agent(role=\"Coding Assistant\")\n",
    "response = agent.invoke(\"What is Python? Be concise\")\n",
    "print(response)"
   ]
  },
  {
   "cell_type": "markdown",
   "id": "661ec4ce",
   "metadata": {},
   "source": [
    "2. Create a calculator tool"
   ]
  },
  {
   "cell_type": "code",
   "execution_count": 5,
   "id": "71c637de",
   "metadata": {},
   "outputs": [],
   "source": [
    "@tool\n",
    "def calculate(expression: str) -> float:\n",
    "    \"\"\"Evaluate a mathematical expression\"\"\"\n",
    "    return eval(expression)"
   ]
  },
  {
   "cell_type": "code",
   "execution_count": 6,
   "id": "2e3204ef",
   "metadata": {},
   "outputs": [],
   "source": [
    "# Create an agent with the calculator tool\n",
    "math_agent = Agent(\n",
    "    role=\"Math Assistant\",\n",
    "    tools=[calculate]\n",
    ")"
   ]
  },
  {
   "cell_type": "code",
   "execution_count": 7,
   "id": "437c9e3d",
   "metadata": {},
   "outputs": [
    {
     "name": "stdout",
     "output_type": "stream",
     "text": [
      "role='system' content=\"You're an AI Agent and your role is Math AssistantYour instructions: Help users with any question\"\n",
      "role='user' content='What is 23 * 45?'\n",
      "role='assistant' content=None tool_calls=[ChatCompletionMessageToolCall(id='call_ePeL9iEViNuCgT13kate2Cd3', function=Function(arguments='{\"expression\":\"23 * 45\"}', name='calculate'), type='function')]\n",
      "role='tool' content='1035' tool_call_id='call_ePeL9iEViNuCgT13kate2Cd3' name='calculate'\n",
      "role='assistant' content='The result of \\\\( 23 \\\\times 45 \\\\) is 1035.' tool_calls=None\n",
      "The result of \\( 23 \\times 45 \\) is 1035.\n"
     ]
    }
   ],
   "source": [
    "response = math_agent.invoke(\"What is 23 * 45?\")\n",
    "print(response)"
   ]
  },
  {
   "cell_type": "code",
   "execution_count": 8,
   "id": "2e1b6096",
   "metadata": {},
   "outputs": [
    {
     "name": "stdout",
     "output_type": "stream",
     "text": [
      "role='system' content=\"You're an AI Agent and your role is Math AssistantYour instructions: Help users with any question\"\n",
      "role='user' content='If I multiply 3 by 5, what do I get? Then later add 7'\n",
      "role='assistant' content=None tool_calls=[ChatCompletionMessageToolCall(id='call_QUOT66cbFX6VOQnhLIKmTSOM', function=Function(arguments='{\"expression\": \"3 * 5\"}', name='calculate'), type='function'), ChatCompletionMessageToolCall(id='call_UwkFJJnzbcnqXRzNPJukFcLw', function=Function(arguments='{\"expression\": \"(3 * 5) + 7\"}', name='calculate'), type='function')]\n",
      "role='tool' content='15' tool_call_id='call_QUOT66cbFX6VOQnhLIKmTSOM' name='calculate'\n",
      "role='tool' content='22' tool_call_id='call_UwkFJJnzbcnqXRzNPJukFcLw' name='calculate'\n",
      "role='assistant' content='If you multiply 3 by 5, you get 15. If you then add 7 to that result, you get 22.' tool_calls=None\n",
      "If you multiply 3 by 5, you get 15. If you then add 7 to that result, you get 22.\n"
     ]
    }
   ],
   "source": [
    "# Test multiple tool usage\n",
    "response = math_agent.invoke(\"If I multiply 3 by 5, what do I get? Then later add 7\")\n",
    "print(response)"
   ]
  },
  {
   "cell_type": "markdown",
   "id": "e45fbf2c",
   "metadata": {},
   "source": [
    "3. Create a data analyst"
   ]
  },
  {
   "cell_type": "code",
   "execution_count": 9,
   "id": "7b034a4e",
   "metadata": {},
   "outputs": [],
   "source": [
    "GAMES_DATA = [\n",
    "    {\"Game\": \"The Legend of Zelda: Breath of the Wild\", \"Platform\": \"Switch\", \"Score\": 98},\n",
    "    {\"Game\": \"Super Mario Odyssey\", \"Platform\": \"Switch\", \"Score\": 97},\n",
    "    {\"Game\": \"Metroid Prime\", \"Platform\": \"GameCube\", \"Score\": 97},\n",
    "    {\"Game\": \"Super Smash Bros. Brawl\", \"Platform\": \"Wii\", \"Score\": 93},\n",
    "    {\"Game\": \"Mario Kart 8 Deluxe\", \"Platform\": \"Switch\", \"Score\": 92},\n",
    "    {\"Game\": \"Fire Emblem: Awakening\", \"Platform\": \"3DS\", \"Score\": 92},\n",
    "    {\"Game\": \"Donkey Kong Country Returns\", \"Platform\": \"Wii\", \"Score\": 87},\n",
    "    {\"Game\": \"Luigi's Mansion 3\", \"Platform\": \"Switch\", \"Score\": 86},\n",
    "    {\"Game\": \"Pikmin 3\", \"Platform\": \"Wii U\", \"Score\": 85},\n",
    "    {\"Game\": \"Animal Crossing: New Leaf\", \"Platform\": \"3DS\", \"Score\": 88}\n",
    "]\n",
    "\n",
    "@tool\n",
    "def get_games(num_games:int=1, top:bool=True) -> str:\n",
    "    \"\"\"\n",
    "    Returns the top or bottom N games with highest or lowest scores.    \n",
    "    args:\n",
    "        num_games (int): Number of games to return (default is 1)\n",
    "        top (bool): If True, return top games, otherwise return bottom (default is True)\n",
    "    \"\"\"\n",
    "    # Sort the games list by Score\n",
    "    # If top is True, descending order\n",
    "    sorted_games = sorted(GAMES_DATA, key=lambda x: x['Score'], reverse=top)\n",
    "    \n",
    "    # Return the N games\n",
    "    return sorted_games[:num_games]"
   ]
  },
  {
   "cell_type": "code",
   "execution_count": 10,
   "id": "3f272aa1-ec22-42f0-a2d3-603ce2896674",
   "metadata": {},
   "outputs": [],
   "source": [
    "from typing import List, Dict, Any, Optional\n",
    "import math\n",
    "\n",
    "\n",
    "def _median(nums: List[float]) -> float:\n",
    "    s = sorted(nums)\n",
    "    n = len(s)\n",
    "    mid = n // 2\n",
    "    if n % 2 == 1:\n",
    "        return float(s[mid])\n",
    "    return (s[mid - 1] + s[mid]) / 2.0\n",
    "\n",
    "def _stdev(nums: List[float]) -> float:\n",
    "    n = len(nums)\n",
    "    if n <= 1:\n",
    "        return 0.0\n",
    "    mean = sum(nums) / n\n",
    "    var = sum((x - mean) ** 2 for x in nums) / n  # population stdev\n",
    "    return math.sqrt(var)\n",
    "\n",
    "@tool\n",
    "def get_game_stats(group_by: Optional[str] = \"Platform\",\n",
    "                   bucket_size: Optional[int] = None) -> Dict[str, Any]:\n",
    "    \"\"\"\n",
    "    Calculate score statistics and distributions for the games dataset.\n",
    "\n",
    "    args:\n",
    "        group_by (str | None): Field to group by for a categorical distribution\n",
    "                               (e.g., \"Platform\"). Use None to skip grouping.\n",
    "        bucket_size (int | None): If provided, create a histogram of scores with this\n",
    "                                  bucket width (e.g., 5 -> 80-84, 85-89, ...).\n",
    "\n",
    "    returns:\n",
    "        dict: {\n",
    "          \"count\": int,\n",
    "          \"score\": {\"avg\": float, \"median\": float, \"min\": int, \"max\": int, \"stdev\": float},\n",
    "          \"distribution\": {<group_value>: {\"count\": int, \"avg\": float}} | null,\n",
    "          \"score_histogram\": { \"<lo>-<hi>\": int } | null\n",
    "        }\n",
    "    \"\"\"\n",
    "    data = GAMES_DATA\n",
    "    scores = [row[\"Score\"] for row in data]\n",
    "    n = len(scores)\n",
    "\n",
    "    overall = {\n",
    "        \"count\": n,\n",
    "        \"score\": {\n",
    "            \"avg\": sum(scores) / n if n else 0.0,\n",
    "            \"median\": _median(scores) if n else 0.0,\n",
    "            \"min\": min(scores) if n else 0,\n",
    "            \"max\": max(scores) if n else 0,\n",
    "            \"stdev\": _stdev(scores) if n else 0.0,\n",
    "        },\n",
    "    }\n",
    "\n",
    "    # Categorical distribution (e.g., by Platform)\n",
    "    distribution: Optional[Dict[str, Dict[str, float]]] = None\n",
    "    if group_by:\n",
    "        buckets: Dict[str, List[int]] = {}\n",
    "        for row in data:\n",
    "            key = str(row.get(group_by, \"Unknown\"))\n",
    "            buckets.setdefault(key, []).append(row[\"Score\"])\n",
    "        distribution = {\n",
    "            k: {\"count\": len(v), \"avg\": (sum(v) / len(v) if v else 0.0)}\n",
    "            for k, v in buckets.items()\n",
    "        }\n",
    "\n",
    "    # Score histogram with fixed bucket width\n",
    "    score_histogram: Optional[Dict[str, int]] = None\n",
    "    if bucket_size and bucket_size > 0 and n:\n",
    "        lo = (min(scores) // bucket_size) * bucket_size\n",
    "        hi = (max(scores) // bucket_size) * bucket_size\n",
    "        bins: Dict[str, int] = {}\n",
    "        for s in scores:\n",
    "            b_lo = (s // bucket_size) * bucket_size\n",
    "            b_hi = b_lo + (bucket_size - 1)\n",
    "            label = f\"{int(b_lo)}-{int(b_hi)}\"\n",
    "            bins[label] = bins.get(label, 0) + 1\n",
    "        # Ensure empty bins between lo..hi exist (optional but nice)\n",
    "        cur = lo\n",
    "        while cur <= hi:\n",
    "            label = f\"{int(cur)}-{int(cur + bucket_size - 1)}\"\n",
    "            bins.setdefault(label, 0)\n",
    "            cur += bucket_size\n",
    "        # Sort labels numerically\n",
    "        score_histogram = {k: bins[k] for k in sorted(bins.keys(), key=lambda x: int(x.split(\"-\")[0]))}\n",
    "\n",
    "    overall[\"distribution\"] = distribution\n",
    "    overall[\"score_histogram\"] = score_histogram\n",
    "    return overall"
   ]
  },
  {
   "cell_type": "code",
   "execution_count": 11,
   "id": "c47a77c8",
   "metadata": {},
   "outputs": [],
   "source": [
    "# Create an agent with the multiple tools\n",
    "data_analyst_agent = Agent(\n",
    "    role=\"Game Stats Assistant\",\n",
    "    instructions=\"You can bring insights about a game dataset based on users questions\",\n",
    "    tools=[get_games, get_game_stats]\n",
    ")"
   ]
  },
  {
   "cell_type": "code",
   "execution_count": 12,
   "id": "0139cdad",
   "metadata": {},
   "outputs": [
    {
     "name": "stdout",
     "output_type": "stream",
     "text": [
      "role='system' content=\"You're an AI Agent and your role is Game Stats AssistantYour instructions: You can bring insights about a game dataset based on users questions\"\n",
      "role='user' content=\"What's the best game in the dataset?\"\n",
      "role='assistant' content=None tool_calls=[ChatCompletionMessageToolCall(id='call_bIxzE09LBamYdwQkBDAygoa0', function=Function(arguments='{\"num_games\":1,\"top\":true}', name='get_games'), type='function')]\n",
      "role='tool' content='[{\"Game\": \"The Legend of Zelda: Breath of the Wild\", \"Platform\": \"Switch\", \"Score\": 98}]' tool_call_id='call_bIxzE09LBamYdwQkBDAygoa0' name='get_games'\n",
      "role='assistant' content='The best game in the dataset is **The Legend of Zelda: Breath of the Wild** for the **Switch**, with a score of **98**.' tool_calls=None\n",
      "The best game in the dataset is **The Legend of Zelda: Breath of the Wild** for the **Switch**, with a score of **98**.\n"
     ]
    }
   ],
   "source": [
    "response = data_analyst_agent.invoke(\"What's the best game in the dataset?\")\n",
    "print(response)"
   ]
  },
  {
   "cell_type": "code",
   "execution_count": 13,
   "id": "84cdf1cd",
   "metadata": {},
   "outputs": [
    {
     "name": "stdout",
     "output_type": "stream",
     "text": [
      "role='system' content=\"You're an AI Agent and your role is Game Stats AssistantYour instructions: You can bring insights about a game dataset based on users questions\"\n",
      "role='user' content=\"What's the worst game in the dataset?\"\n",
      "role='assistant' content=None tool_calls=[ChatCompletionMessageToolCall(id='call_PuiQd2HFDngEo0o43dhUIGh7', function=Function(arguments='{\"num_games\":1,\"top\":false}', name='get_games'), type='function')]\n",
      "role='tool' content='[{\"Game\": \"Pikmin 3\", \"Platform\": \"Wii U\", \"Score\": 85}]' tool_call_id='call_PuiQd2HFDngEo0o43dhUIGh7' name='get_games'\n",
      "role='assistant' content='The worst game in the dataset is \"Pikmin 3\" for the Wii U, with a score of 85.' tool_calls=None\n",
      "The worst game in the dataset is \"Pikmin 3\" for the Wii U, with a score of 85.\n"
     ]
    }
   ],
   "source": [
    "response = data_analyst_agent.invoke(\"What's the worst game in the dataset?\")\n",
    "print(response)"
   ]
  },
  {
   "cell_type": "code",
   "execution_count": 14,
   "id": "baa27e07",
   "metadata": {},
   "outputs": [
    {
     "name": "stdout",
     "output_type": "stream",
     "text": [
      "role='system' content=\"You're an AI Agent and your role is Game Stats AssistantYour instructions: You can bring insights about a game dataset based on users questions\"\n",
      "role='user' content='What is the average score?'\n",
      "role='assistant' content=None tool_calls=[ChatCompletionMessageToolCall(id='call_pIN5uSxxOXHLka73N0wvBooi', function=Function(arguments='{}', name='get_game_stats'), type='function')]\n",
      "role='tool' content='{\"count\": 10, \"score\": {\"avg\": 91.5, \"median\": 92.0, \"min\": 85, \"max\": 98, \"stdev\": 4.588027898781785}, \"distribution\": {\"Switch\": {\"count\": 4, \"avg\": 93.25}, \"GameCube\": {\"count\": 1, \"avg\": 97.0}, \"Wii\": {\"count\": 2, \"avg\": 90.0}, \"3DS\": {\"count\": 2, \"avg\": 90.0}, \"Wii U\": {\"count\": 1, \"avg\": 85.0}}, \"score_histogram\": null}' tool_call_id='call_pIN5uSxxOXHLka73N0wvBooi' name='get_game_stats'\n",
      "role='assistant' content='The average score of the games is 91.5.' tool_calls=None\n",
      "The average score of the games is 91.5.\n"
     ]
    }
   ],
   "source": [
    "response = data_analyst_agent.invoke(\"What is the average score?\")\n",
    "print(response)"
   ]
  },
  {
   "cell_type": "code",
   "execution_count": 15,
   "id": "43c477b1",
   "metadata": {},
   "outputs": [
    {
     "name": "stdout",
     "output_type": "stream",
     "text": [
      "role='system' content=\"You're an AI Agent and your role is Game Stats AssistantYour instructions: You can bring insights about a game dataset based on users questions\"\n",
      "role='user' content='What is the distribution of platforms?'\n",
      "role='assistant' content=None tool_calls=[ChatCompletionMessageToolCall(id='call_TR8YLZLjgeW3Mg70QXD597fr', function=Function(arguments='{\"group_by\":\"Platform\"}', name='get_game_stats'), type='function')]\n",
      "role='tool' content='{\"count\": 10, \"score\": {\"avg\": 91.5, \"median\": 92.0, \"min\": 85, \"max\": 98, \"stdev\": 4.588027898781785}, \"distribution\": {\"Switch\": {\"count\": 4, \"avg\": 93.25}, \"GameCube\": {\"count\": 1, \"avg\": 97.0}, \"Wii\": {\"count\": 2, \"avg\": 90.0}, \"3DS\": {\"count\": 2, \"avg\": 90.0}, \"Wii U\": {\"count\": 1, \"avg\": 85.0}}, \"score_histogram\": null}' tool_call_id='call_TR8YLZLjgeW3Mg70QXD597fr' name='get_game_stats'\n",
      "role='assistant' content='The distribution of platforms in the dataset is as follows:\\n\\n- **Switch**: 4 games, average score of 93.25\\n- **GameCube**: 1 game, average score of 97.0\\n- **Wii**: 2 games, average score of 90.0\\n- **3DS**: 2 games, average score of 90.0\\n- **Wii U**: 1 game, average score of 85.0\\n\\nOverall, there are 10 games in total, with an average score of 91.5, a median score of 92.0, a minimum score of 85, and a maximum score of 98. The standard deviation of the scores is approximately 4.59.' tool_calls=None\n",
      "The distribution of platforms in the dataset is as follows:\n",
      "\n",
      "- **Switch**: 4 games, average score of 93.25\n",
      "- **GameCube**: 1 game, average score of 97.0\n",
      "- **Wii**: 2 games, average score of 90.0\n",
      "- **3DS**: 2 games, average score of 90.0\n",
      "- **Wii U**: 1 game, average score of 85.0\n",
      "\n",
      "Overall, there are 10 games in total, with an average score of 91.5, a median score of 92.0, a minimum score of 85, and a maximum score of 98. The standard deviation of the scores is approximately 4.59.\n"
     ]
    }
   ],
   "source": [
    "response = data_analyst_agent.invoke(\"What is the distribution of platforms?\")\n",
    "print(response)"
   ]
  },
  {
   "cell_type": "code",
   "execution_count": null,
   "id": "1b10bae1-4045-4f38-af94-3f4a5b64e0f7",
   "metadata": {},
   "outputs": [],
   "source": []
  },
  {
   "cell_type": "code",
   "execution_count": null,
   "id": "cca9aa07-35bf-469d-8de7-ba66c4e193ed",
   "metadata": {},
   "outputs": [],
   "source": []
  }
 ],
 "metadata": {
  "kernelspec": {
   "display_name": "Python 3 (ipykernel)",
   "language": "python",
   "name": "python3"
  },
  "language_info": {
   "codemirror_mode": {
    "name": "ipython",
    "version": 3
   },
   "file_extension": ".py",
   "mimetype": "text/x-python",
   "name": "python",
   "nbconvert_exporter": "python",
   "pygments_lexer": "ipython3",
   "version": "3.13.1"
  }
 },
 "nbformat": 4,
 "nbformat_minor": 5
}
