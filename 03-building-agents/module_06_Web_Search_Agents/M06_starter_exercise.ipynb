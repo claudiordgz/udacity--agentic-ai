{
 "cells": [
  {
   "cell_type": "markdown",
   "id": "e3778898",
   "metadata": {},
   "source": [
    "# [STARTER] Exercise - Build a Web-Aware Agent with Search and Knowledge Comparison\n",
    "\n",
    "In this exercise, you'll build an agent that can search the web for current information and compare\n",
    "it with its internal knowledge. This demonstrates how to enhance an LLM's capabilities with real-time\n",
    "web data and how to critically analyze differences between sources.\n"
   ]
  },
  {
   "cell_type": "markdown",
   "id": "12e57bd8",
   "metadata": {},
   "source": [
    "## Challenge\n",
    "\n",
    "Your task is to create an agent that can:\n",
    "\n",
    "- Implement web search functionality using Tavily API\n",
    "- Parse and process search results effectively\n",
    "- Handle different types of queries (news, facts, events)\n",
    "- Extract relevant information from search results"
   ]
  },
  {
   "cell_type": "markdown",
   "id": "9fa44fc7",
   "metadata": {},
   "source": [
    "## Setup\n",
    "First, let's import the necessary libraries:"
   ]
  },
  {
   "cell_type": "code",
   "execution_count": 2,
   "id": "8bac7b97-1aab-4922-a6a0-017ebc6ffd4c",
   "metadata": {},
   "outputs": [],
   "source": [
    "from pathlib import Path\n",
    "import sys\n",
    "\n",
    "nb_dir = Path(__file__).parent if \"__file__\" in globals() else Path.cwd()\n",
    "parent = nb_dir.parent  # points to 03-building-agents\n",
    "if str(parent) not in sys.path:\n",
    "    sys.path.insert(0, str(parent))"
   ]
  },
  {
   "cell_type": "code",
   "execution_count": 3,
   "id": "08286c75",
   "metadata": {},
   "outputs": [],
   "source": [
    "import os\n",
    "from datetime import datetime\n",
    "from typing import List, Dict\n",
    "from dotenv import load_dotenv\n",
    "from tavily import TavilyClient\n",
    "\n",
    "from lib.agents import Agent\n",
    "from lib.messages import BaseMessage\n",
    "from lib.tooling import tool"
   ]
  },
  {
   "cell_type": "code",
   "execution_count": 4,
   "id": "4002bf4c",
   "metadata": {},
   "outputs": [
    {
     "data": {
      "text/plain": [
       "False"
      ]
     },
     "execution_count": 4,
     "metadata": {},
     "output_type": "execute_result"
    }
   ],
   "source": [
    "load_dotenv()"
   ]
  },
  {
   "cell_type": "markdown",
   "id": "97097944",
   "metadata": {},
   "source": [
    "## Play with Tavily"
   ]
  },
  {
   "cell_type": "code",
   "execution_count": 5,
   "id": "969ea654",
   "metadata": {},
   "outputs": [],
   "source": [
    "api_key = os.getenv(\"TAVILY_API_KEY\")\n",
    "client = TavilyClient(api_key=api_key)"
   ]
  },
  {
   "cell_type": "code",
   "execution_count": 6,
   "id": "0ef0dd71",
   "metadata": {},
   "outputs": [],
   "source": [
    "# [TODO] Define a query and run\n",
    "query = \"what is solana\"\n",
    "result = client.search(query)"
   ]
  },
  {
   "cell_type": "code",
   "execution_count": 7,
   "id": "72354d62",
   "metadata": {},
   "outputs": [
    {
     "data": {
      "text/plain": [
       "{'query': 'what is solana',\n",
       " 'follow_up_questions': None,\n",
       " 'answer': None,\n",
       " 'images': [],\n",
       " 'results': [{'url': 'https://solana.com/learn/what-is-solana',\n",
       "   'title': 'What is Solana?',\n",
       "   'content': 'Solana is a fast, low-cost, high-performance network enabling secure digital transactions and powering applications, like the internet for value transfer.',\n",
       "   'score': 0.9387167,\n",
       "   'raw_content': None},\n",
       "  {'url': 'https://www.forbes.com/sites/digital-assets/article/what-is-solana-sol-how-it-works-and-what-to-know/',\n",
       "   'title': 'What Is Solana (SOL)? How It Works And What To Know - Forbes',\n",
       "   'content': 'Solana is a high-performance public blockchain platform that provides fast transaction speeds and low fees for developers and users, especially in comparison to some of the older public blockchains such as Ethereum. The focus on high throughput, potentially handling thousands of transactions per second, has made Solana one of the more ambitious blockchain networks in the industry. Solana’s unique approach to consensus, anchored by its Proof-of-History (PoH) mechanism, aims to provide security and speed without overly compromising network decentralization. In addition to fast speeds, Solana’s transaction fees tend to be significantly lower than those on many competing networks. Validators on Solana secure the network by processing transactions and adding new blocks. While Proof-of-History ensures transactions are processed in order, Solana ultimately uses a Proof-of-Stake layer to validate blocks.',\n",
       "   'score': 0.93265617,\n",
       "   'raw_content': None},\n",
       "  {'url': 'https://www.21shares.com/en-us/research/what-is-solana-used-for-the-blockchain-of-choice-for-retail-users-and-tech-builders',\n",
       "   'title': 'What is Solana used for? The blockchain of choice for retail users ...',\n",
       "   'content': \"Solana is a high-performance blockchain built for speed, scale, and real-world usability, making it one of the most compelling platforms for cross-border payments and beyond. As of writing, the Solana network has recorded 365 billion transactions through a vibrant ecosystem composed of more than 400 applications in various sectors, mainly decentralized financial services, and crypto art and games. The content is for informational and educational purposes only and should not be construed as investment advice or an offer or solicitation in respect to any products or services for any persons who are prohibited from receiving such information under the laws applicable to their place of citizenship, domicile, or residence.Some statements on this website may express future expectations and forward-looking views based on 21Shares' current assumptions.\",\n",
       "   'score': 0.9145431,\n",
       "   'raw_content': None},\n",
       "  {'url': 'https://www.reddit.com/r/solana/comments/1idoual/im_confused_what_is_solana_actually_for_what_is/',\n",
       "   'title': \"I'm confused. What is Solana actually for? What is it use case? - Reddit\",\n",
       "   'content': 'Solana is much more than just a blockchain for meme coins. Meme coins have gained popularity on Solana due to its low fees and fast transactions',\n",
       "   'score': 0.85825616,\n",
       "   'raw_content': None},\n",
       "  {'url': 'https://www.youtube.com/watch?v=GZ-bYOCMfmE',\n",
       "   'title': 'Solana (SOL), Explained in Under 4 Minutes - YouTube',\n",
       "   'content': \"Solana (SOL), Explained in Under 4 Minutes\\nBinance\\n1190000 subscribers\\n351 likes\\n10174 views\\n26 Sep 2025\\n*Known for its lightning-fast transactions and as a launchpad for some of crypto's biggest trends, Solana stands out as a high-speed leading Layer 1 blockchain.* It powers a diverse range of cutting-edge projects, from viral memecoins that capture community attention, to new technologies such as Decentralized Physical Infrastructure Projects (or DePIN) networks where users are rewarded for building real-world assets like wireless networks and digital maps.\\n\\nIn this quick explainer, learn what makes Solana different, how its unique Proof of History and Proof of Stake consensus works, and its vision for scalable, low-cost blockchain transactions that can support the next generation of decentralized applications. \\n\\n*In this video, you will learn:*\\n✅ What is Solana and who founded it\\n✅ How Proof of History enables incredible transaction speeds\\n✅ Comparisons of Solana’s speed and fees versus Bitcoin and Ethereum\\n✅ Solana’s native token (SOL) and its role in staking and fees\\n✅ Challenges Solana has faced and the upgrades improving stability\\n✅ Key ecosystem highlights: DeFi, NFTs, memecoins, and DePIN projects\\n✅ Solana’s energy efficiency and environmental impact\\n✅ Why Solana matters in the future of blockchain scalability\\n\\n*📚 Resources:* \\nWhat is Solana?\\nhttps://academy.binance.com/en/learn-and-earn/course/what-is-solana-sol-BN823220726121590785/\\n\\n*⏱️ Timestamps:*\\n⏳ 00:00 – Introduction: Solana (SOL)\\n⏳ 00:32 – History of Solana and the concept of Proof of History\\n⏳ 01:11 – Solana’s speed and fee advantages over Bitcoin and Ethereum\\n⏳ 01:51 – Solana (SOL) token overview and market metrics\\n⏳ 02:10 – Solana Network challenges and ongoing upgrades\\n⏳ 02:29 – Solana’s Ecosystem and cultural influence in crypto\\n⏳ 02:49 – Solana’s Proof of Stake (PoS) mechanism: Energy efficiency and sustainability\\n⏳ 03:30 – Outro\\n\\n#sol #solana #cryptoexplained #binanceexplains #solanaetf #binance \\n\\n*⚠️ RISK WARNING:* Digital asset prices can be volatile. The value of your investment may go down or up and you may not get back the amount invested. You are solely responsible for your investment decisions and Binance is not liable for any losses you may incur. It is your responsibility to ascertain whether you are permitted to use the services of Binance based on your individual circumstances. Not financial advice. For more information, see our Terms of Use and Risk Warning.\\n\\n*📢 Join the conversation:*\\n➡️ Twitter/X: https://twitter.com/binance\\n➡️ Instagram: https://www.instagram.com/binance\\n➡️ Facebook: https://www.facebook.com/binance\\n➡️ TikTok: https://www.tiktok.com/@binance\\n➡️ LinkedIn: https://www.linkedin.com/company/binance\\n➡️ Reddit: https://www.reddit.com/r/binance\\n\\n*🔗 Download Binance here (iOS, Android):* https://binance.onelink.me/y874/cb98de36\\n*🔗 Sign up for Binance here:* https://www.binance.com/en?ref=ERQKP7ND&utm_source=BinanceYoutube&utm_medium=GlobalSocial&utm_campaign=GlobalSocial\\n45 comments\\n\",\n",
       "   'score': 0.82425016,\n",
       "   'raw_content': None}],\n",
       " 'response_time': 0.93,\n",
       " 'request_id': 'bae6a515-c7d1-4ed3-bb26-dd75a247f368'}"
      ]
     },
     "execution_count": 7,
     "metadata": {},
     "output_type": "execute_result"
    }
   ],
   "source": [
    "result"
   ]
  },
  {
   "cell_type": "markdown",
   "id": "b04a0de2",
   "metadata": {},
   "source": [
    "## Define Web Search tool"
   ]
  },
  {
   "cell_type": "code",
   "execution_count": 8,
   "id": "10a41cb2",
   "metadata": {},
   "outputs": [],
   "source": [
    "from lib.tools import web_search, compare_sources"
   ]
  },
  {
   "cell_type": "code",
   "execution_count": 9,
   "id": "9f67b873",
   "metadata": {},
   "outputs": [],
   "source": [
    "tools = [web_search, compare_sources]"
   ]
  },
  {
   "cell_type": "markdown",
   "id": "29d998d2",
   "metadata": {},
   "source": [
    "## Define Agents"
   ]
  },
  {
   "cell_type": "markdown",
   "id": "aa26baa4",
   "metadata": {},
   "source": [
    "The first agent should not use tools, just its own knowledge. The second one should have web search tool enabled."
   ]
  },
  {
   "cell_type": "code",
   "execution_count": 10,
   "id": "a8e4b392",
   "metadata": {},
   "outputs": [],
   "source": [
    "# [TODO] Agent with no tools\n",
    "simple_agent = Agent(\n",
    "    model_name=\"gpt-4o-mini\",\n",
    "    instructions=\"You are a helpful assistant\",\n",
    ")"
   ]
  },
  {
   "cell_type": "code",
   "execution_count": 11,
   "id": "c7ff665d",
   "metadata": {},
   "outputs": [],
   "source": [
    "# [TODO] Agent with web search tool\n",
    "instructions=(\n",
    "    \"You are a web-aware assistant that can search for updated information. \"\n",
    "    \"For each query, you will search the web for current information using \" \n",
    "    \"Tavily's AI-optimized search and provide a comprehensive answer.\\n\"\n",
    "    \"Always cite your sources and explain any discrepancies found.\\n\"\n",
    "    \"Be particularly attentive to dates and time-sensitive information.\"\n",
    ")\n",
    "web_agent = Agent(model_name=\"gpt-4o-mini\", instructions=instructions, tools=tools)\n"
   ]
  },
  {
   "cell_type": "code",
   "execution_count": 12,
   "id": "c74d8aef",
   "metadata": {},
   "outputs": [],
   "source": [
    "def print_messages(messages: List[BaseMessage]):\n",
    "    for m in messages:\n",
    "        print(f\" -> (role = {m.role}, content = {m.content}, tool_calls = {getattr(m, 'tool_calls', None)})\")"
   ]
  },
  {
   "cell_type": "markdown",
   "id": "bf6168f5",
   "metadata": {},
   "source": [
    "## Run your Agents"
   ]
  },
  {
   "cell_type": "markdown",
   "id": "00d41b25",
   "metadata": {},
   "source": [
    "Run the Agents and compare them. The following queries are just for reference. Change them as you want."
   ]
  },
  {
   "cell_type": "markdown",
   "id": "e41026a0",
   "metadata": {},
   "source": [
    "**Simple Agent**\n",
    "\n",
    "**Note**: This example relies on the date being recent enough that the answer will not be in the model's training data. Try with other current events/dates if needed to get similar results."
   ]
  },
  {
   "cell_type": "code",
   "execution_count": 13,
   "id": "647e7987",
   "metadata": {},
   "outputs": [
    {
     "name": "stdout",
     "output_type": "stream",
     "text": [
      "[StateMachine] Starting: __entry__\n",
      "[StateMachine] Executing step: message_prep\n",
      "[StateMachine] Executing step: llm_processor\n",
      "[StateMachine] Terminating: __termination__\n",
      "\n",
      "Messages from run 1:\n",
      " -> (role = system, content = You are a helpful assistant, tool_calls = None)\n",
      " -> (role = user, content = Who won the 2025 Oscar for International Movie?, tool_calls = None)\n",
      " -> (role = assistant, content = I'm sorry, but I don't have information on events that occurred after October 2021, including the winners of the 2025 Oscars. You may want to check the latest news or the official Oscars website for the most accurate and up-to-date information., tool_calls = None)\n"
     ]
    }
   ],
   "source": [
    "run1 = simple_agent.invoke(\n",
    "    query=\"Who won the 2025 Oscar for International Movie?\", \n",
    ")\n",
    "\n",
    "print(\"\\nMessages from run 1:\")\n",
    "messages = run1.get_final_state()[\"messages\"]\n",
    "print_messages(messages)"
   ]
  },
  {
   "cell_type": "code",
   "execution_count": 14,
   "id": "14dd2e35",
   "metadata": {},
   "outputs": [
    {
     "name": "stdout",
     "output_type": "stream",
     "text": [
      "I'm sorry, but I don't have information on events that occurred after October 2021, including the winners of the 2025 Oscars. You may want to check the latest news or the official Oscars website for the most accurate and up-to-date information.\n"
     ]
    }
   ],
   "source": [
    "print(run1.get_final_state()[\"messages\"][-1].content)"
   ]
  },
  {
   "cell_type": "code",
   "execution_count": 15,
   "id": "a057ad60",
   "metadata": {},
   "outputs": [
    {
     "name": "stdout",
     "output_type": "stream",
     "text": [
      "[StateMachine] Starting: __entry__\n",
      "[StateMachine] Executing step: message_prep\n",
      "[StateMachine] Executing step: llm_processor\n",
      "[StateMachine] Terminating: __termination__\n",
      "\n",
      "Messages from run 2:\n",
      " -> (role = system, content = You are a helpful assistant, tool_calls = None)\n",
      " -> (role = user, content = Who won the 2025 Oscar for International Movie?, tool_calls = None)\n",
      " -> (role = assistant, content = I'm sorry, but I don't have information on events that occurred after October 2021, including the winners of the 2025 Oscars. You may want to check the latest news or the official Oscars website for the most accurate and up-to-date information., tool_calls = None)\n",
      " -> (role = user, content = What are the most recent developments in AI technology?, tool_calls = None)\n",
      " -> (role = assistant, content = As of my last knowledge update in October 2021, I can't provide the latest developments in AI technology beyond that date. However, I can summarize some key trends and areas of focus in AI leading up to that time:\n",
      "\n",
      "1. **Natural Language Processing (NLP):** Significant advancements have been made with models like GPT-3 (developed by OpenAI) and other large language models, improving capabilities in text generation, translation, and understanding context.\n",
      "\n",
      "2. **Computer Vision:** AI systems have become increasingly adept at image and video recognition. Applications include facial recognition, autonomous vehicles, and medical imaging.\n",
      "\n",
      "3. **Ethics and Bias in AI:** There has been a growing awareness and concern regarding the ethical implications of AI, including issues of bias, privacy, and transparency. Companies and researchers are working on frameworks to address these challenges.\n",
      "\n",
      "4. **AI in Healthcare:** AI technologies have been increasingly applied in healthcare, including drug discovery, diagnostics, and personalized medicine. Machine learning algorithms are being used to analyze medical data and improve patient outcomes.\n",
      "\n",
      "5. **AI and Automation:** Industries are increasingly adopting AI for automation, leading to improvements in efficiency and productivity. This includes the use of AI in manufacturing, supply chain management, and customer service.\n",
      "\n",
      "6. **Generative AI:** The development of generative models that can create new content, such as images, music, and text, has gained traction. This includes techniques like GANs (Generative Adversarial Networks) and VAEs (Variational Autoencoders).\n",
      "\n",
      "7. **AI for Climate Change:** Researchers are exploring how AI can help combat climate change, including optimizing energy use, improving climate modeling, and supporting sustainable practices.\n",
      "\n",
      "8. **AI in Robotics:** Advances in AI are driving improvements in robotics, enabling more sophisticated interactions in environments ranging from warehouses to homes.\n",
      "\n",
      "For the most current developments in AI technology, I recommend checking recent publications, news articles, or technology blogs that focus on AI advancements., tool_calls = None)\n"
     ]
    }
   ],
   "source": [
    "run2 = simple_agent.invoke(\n",
    "    query=\"What are the most recent developments in AI technology?\", \n",
    ")\n",
    "print(\"\\nMessages from run 2:\")\n",
    "messages = run2.get_final_state()[\"messages\"]\n",
    "print_messages(messages)"
   ]
  },
  {
   "cell_type": "code",
   "execution_count": 16,
   "id": "c781d4b1",
   "metadata": {},
   "outputs": [
    {
     "name": "stdout",
     "output_type": "stream",
     "text": [
      "As of my last knowledge update in October 2021, I can't provide the latest developments in AI technology beyond that date. However, I can summarize some key trends and areas of focus in AI leading up to that time:\n",
      "\n",
      "1. **Natural Language Processing (NLP):** Significant advancements have been made with models like GPT-3 (developed by OpenAI) and other large language models, improving capabilities in text generation, translation, and understanding context.\n",
      "\n",
      "2. **Computer Vision:** AI systems have become increasingly adept at image and video recognition. Applications include facial recognition, autonomous vehicles, and medical imaging.\n",
      "\n",
      "3. **Ethics and Bias in AI:** There has been a growing awareness and concern regarding the ethical implications of AI, including issues of bias, privacy, and transparency. Companies and researchers are working on frameworks to address these challenges.\n",
      "\n",
      "4. **AI in Healthcare:** AI technologies have been increasingly applied in healthcare, including drug discovery, diagnostics, and personalized medicine. Machine learning algorithms are being used to analyze medical data and improve patient outcomes.\n",
      "\n",
      "5. **AI and Automation:** Industries are increasingly adopting AI for automation, leading to improvements in efficiency and productivity. This includes the use of AI in manufacturing, supply chain management, and customer service.\n",
      "\n",
      "6. **Generative AI:** The development of generative models that can create new content, such as images, music, and text, has gained traction. This includes techniques like GANs (Generative Adversarial Networks) and VAEs (Variational Autoencoders).\n",
      "\n",
      "7. **AI for Climate Change:** Researchers are exploring how AI can help combat climate change, including optimizing energy use, improving climate modeling, and supporting sustainable practices.\n",
      "\n",
      "8. **AI in Robotics:** Advances in AI are driving improvements in robotics, enabling more sophisticated interactions in environments ranging from warehouses to homes.\n",
      "\n",
      "For the most current developments in AI technology, I recommend checking recent publications, news articles, or technology blogs that focus on AI advancements.\n"
     ]
    }
   ],
   "source": [
    "print(run2.get_final_state()[\"messages\"][-1].content)"
   ]
  },
  {
   "cell_type": "markdown",
   "id": "237903c7",
   "metadata": {},
   "source": [
    "**Web Agent**"
   ]
  },
  {
   "cell_type": "code",
   "execution_count": 17,
   "id": "89c9238c",
   "metadata": {},
   "outputs": [
    {
     "name": "stdout",
     "output_type": "stream",
     "text": [
      "[StateMachine] Starting: __entry__\n",
      "[StateMachine] Executing step: message_prep\n",
      "[StateMachine] Executing step: llm_processor\n",
      "[StateMachine] Executing step: tool_executor\n",
      "[StateMachine] Executing step: llm_processor\n",
      "[StateMachine] Terminating: __termination__\n",
      "\n",
      "Messages from run 1:\n",
      " -> (role = system, content = You are a web-aware assistant that can search for updated information. For each query, you will search the web for current information using Tavily's AI-optimized search and provide a comprehensive answer.\n",
      "Always cite your sources and explain any discrepancies found.\n",
      "Be particularly attentive to dates and time-sensitive information., tool_calls = None)\n",
      " -> (role = user, content = Who won the 2025 Oscar for International Movie?, tool_calls = None)\n",
      " -> (role = assistant, content = None, tool_calls = [ChatCompletionMessageToolCall(id='call_iKjiVHX2FxU1q7MV1DifJoc7', function=Function(arguments='{\"query\":\"2025 Oscar winner International Movie\",\"search_depth\":\"basic\"}', name='web_search'), type='function')])\n",
      " -> (role = tool, content = \"{'answer': 'Brazil\\\\'s \\\"I\\\\'m Still Here\\\" won the 2025 Oscar for Best International Feature Film. The film is based on a true story set in 1970s Rio de Janeiro. Fernanda Torres starred in the film.', 'results': [{'url': 'https://www.npr.org/2025/03/02/nx-s1-5315313/oscars-2025-im-still-here-brazil-best-international-feature', 'title': \\\"Oscars 2025: Brazil's 'I'm Still Here' wins best international feature\\\", 'content': \\\"**Oscars 2025: Brazil\\u2019s \\u2018I\\u2019m Still Here\\u2019 wins best international feature** **The film is based on a true story set in 1970s Rio de Janeiro, when Brazil was living under a military dictatorship.** # Brazil's 'I'm Still Here' wins best international feature at the Oscars *I'm Still Here* director Walter Salles, left, and star Fernanda Torres arrive at the Oscars on Sunday. **Richard Shotwell/Invision/AP**  ****hide caption**** Actress Fernanda Torres was also nominated for an Oscar for her leading role as Eunice Paiva. *I'm Still Here* also features Torres' real-life legendary mother, 95-year-old Fernanda Montenegro, who plays an older version of Paiva in the film. ### A family endures a dictatorship in the Oscar-nominated 'I'm Still Here'\\\", 'score': 0.8839694, 'raw_content': None}, {'url': 'https://abc.com/news/8d96bb37-bd59-4c28-a470-46f244f63b3b/category/3590742', 'title': 'Oscars 2025 Winners: Full List of the 97th Academy Awards Winners!', 'content': 'The Oscar winners 2025 complete list is here! ANORA\\\\xa0\\\\xa0**\\\\\\\\*\\\\\\\\*WINNER\\\\\\\\*\\\\\\\\*** Alex Coco, Samantha Quan and Sean Baker, Producers THE BRUTALIST Nick Gordon, Brian Young, Andrew Morrison, D.J. Gugenheim and Brady Corbet, Producers A COMPLETE UNKNOWN Fred Berger, James Mangold and Alex Heineman, Producers CONCLAVE Tessa Ross, Juliette Howell and Michael A. ANORA\\\\xa0**\\\\\\\\*\\\\\\\\*WINNER\\\\\\\\*\\\\\\\\*** Sean Baker THE BRUTALIST Brady Corbet A COMPLETE UNKNOWN James Mangold EMILIA P\\u00c9REZ Jacques Audiard THE SUBSTANCE Coralie Fargeat ANORA\\\\xa0\\\\xa0**\\\\\\\\*\\\\\\\\*WINNER\\\\\\\\*\\\\\\\\*** Sean Baker THE BRUTALIST David Jancso CONCLAVE Nick Emerson EMILIA P\\u00c9REZ Juliette Welfling WICKED Myron Kerstein A COMPLETE UNKNOWNScreenplay by James Mangold and Jay CocksCONCLAVE\\\\xa0**\\\\\\\\*\\\\\\\\*WINNER\\\\\\\\*\\\\\\\\*** Screenplay by Peter Straughan EMILIA P\\u00c9REZ Screenplay by Jacques Audiard; In collaboration with Thomas Bidegain, L\\u00e9a Mysius and Nicolas Livecchi NICKEL BOYS Screenplay by RaMell Ross & Joslyn Barnes SING SING Screenplay by Clint Bentley, Greg Kwedar; Story by Clint Bentley, Greg Kwedar, Clarence Maclin, John \\\"Divine G\\\" Whitfield', 'score': 0.84277284, 'raw_content': None}, {'url': 'https://6abc.com/post/2025-oscars-best-picture-director-actor-actress-more-see-full-list-winners-97th-academy-awards/15961085/', 'title': '2025 Oscars winners list: See who won for Best Picture, Best ... - 6ABC', 'content': '# 2025 Oscars: Best Picture, Best Director, Best Actor, Best Actress & more | See full list of winners \\\"Anora\\\" has won the Best Picture Oscar at the 2025 Academy Awards. ## Full list of 2025 Oscar winners and nominations: * **\\\"Anora\\\"- WINNER** * **\\\"I\\\\'m Not a Robot\\\"- WINNER** * **\\\"Dune: Part Two\\\"- WINNER** * **\\\"Dune: Part Two\\\"- WINNER** * **\\\"No Other Land\\\"- WINNER** * **\\\"El Mal\\\" from \\\"Emilia P\\u00e9rez\\\"- WINNER** * **\\\"Wicked\\\"- WINNER** * **Zoe Salda\\u00f1a, \\\"Emilia P\\u00e9rez\\\"- WINNER** * **\\\"The Substance\\\"- WINNER** * **\\\"Conclave\\\" Peter Straughan- WINNER** * **\\\"Flow\\\"- WINNER** You also may have rights to opt out from certain third parties selling and sharing your personal information. To learn more, visit \\\"Do Not Sell or Share My Personal Information\\\" and \\\"Targeted Advertising\\\" Opt-Out Rights.', 'score': 0.83678174, 'raw_content': None}, {'url': 'https://www.youtube.com/watch?v=J4ngUjU9gO0', 'title': \\\"'I'm Still Here' Wins Best International Feature Film | 97th Oscars ...\\\", 'content': \\\"'I'm Still Here' Wins Best International Feature Film | 97th Oscars Speech (2025) \\u00b7 Comments.\\\", 'score': 0.7409441, 'raw_content': None}, {'url': 'https://www.oscars.org/oscars/ceremonies/2025', 'title': 'The 97th Academy Awards | 2025 - Oscars.org', 'content': '*   [Academy Film Archive](https://www.oscars.org/film-archive \\\"Site section links\\\") *   [Academy Film Archive](https://www.oscars.org/film-archive \\\"Site section links\\\") [![Image 6: 97th Oscars host Conan O\\\\'Brien](https://www.oscars.org/sites/oscars_org/themes/custom/oscars_org/assets/images/placeholder.lazy-load.jpg)](https://www.oscars.org/sites/oscars/files/2025-03/97_PR_0054.JPG?VersionId=wNByJOtZbVypw5FYUCXRQDd4qjpPb8RG \\\"97th Oscars acting winners - Adrien Brody, Mikey Madison, Zoe Salda\\u00f1a, Kieran Culkin\\\") from Emilia P\\u00e9rez; Music by Cl\\u00e9ment Ducol and Camille; Lyric by Cl\\u00e9ment Ducol, Camille and Jacques Audiard from Emilia P\\u00e9rez; Music and Lyric by Camille and Cl\\u00e9ment Ducol from Elton John: Never Too Late; Music and Lyric by Elton John, Brandi Carlile, Andrew Watt and Bernie Taupin Alex Coco, Samantha Quan and Sean Baker, Producers Nick Gordon, Brian Young, Andrew Morrison, D.J. Gugenheim and Brady Corbet, Producers Fred Berger, James Mangold and Alex Heineman, Producers Pascal Caucheteux and Jacques Audiard, Producers Coralie Fargeat and Tim Bevan & Eric Fellner, Producers', 'score': 0.71305263, 'raw_content': None}], 'search_metadata': {'timestamp': '2025-10-12T00:27:47.525842', 'query': '2025 Oscar winner International Movie'}}\", tool_calls = None)\n",
      " -> (role = assistant, content = The 2025 Oscar for Best International Feature Film was awarded to Brazil's **\"I'm Still Here.\"** The film, directed by Walter Salles and featuring actress Fernanda Torres, is based on a true story set in 1970s Rio de Janeiro during a time of military dictatorship. Torres plays the lead role of Eunice Paiva, and the film also features her mother, the renowned Fernanda Montenegro, in a supporting role.\n",
      "\n",
      "For more information, you can read the full articles from NPR and ABC covering the Oscars:\n",
      "\n",
      "- [NPR Article on \"I'm Still Here\"](https://www.npr.org/2025/03/02/nx-s1-5315313/oscars-2025-im-still-here-brazil-best-international-feature)\n",
      "- [ABC's Complete List of Oscar Winners](https://abc.com/news/8d96bb37-bd59-4c28-a470-46f244f63b3b/category/3590742), tool_calls = None)\n"
     ]
    }
   ],
   "source": [
    "run1 = web_agent.invoke(\n",
    "    query=\"Who won the 2025 Oscar for International Movie?\", \n",
    ")\n",
    "\n",
    "print(\"\\nMessages from run 1:\")\n",
    "messages = run1.get_final_state()[\"messages\"]\n",
    "print_messages(messages)"
   ]
  },
  {
   "cell_type": "code",
   "execution_count": 18,
   "id": "cf73be45",
   "metadata": {},
   "outputs": [
    {
     "name": "stdout",
     "output_type": "stream",
     "text": [
      "The 2025 Oscar for Best International Feature Film was awarded to Brazil's **\"I'm Still Here.\"** The film, directed by Walter Salles and featuring actress Fernanda Torres, is based on a true story set in 1970s Rio de Janeiro during a time of military dictatorship. Torres plays the lead role of Eunice Paiva, and the film also features her mother, the renowned Fernanda Montenegro, in a supporting role.\n",
      "\n",
      "For more information, you can read the full articles from NPR and ABC covering the Oscars:\n",
      "\n",
      "- [NPR Article on \"I'm Still Here\"](https://www.npr.org/2025/03/02/nx-s1-5315313/oscars-2025-im-still-here-brazil-best-international-feature)\n",
      "- [ABC's Complete List of Oscar Winners](https://abc.com/news/8d96bb37-bd59-4c28-a470-46f244f63b3b/category/3590742)\n"
     ]
    }
   ],
   "source": [
    "print(run1.get_final_state()[\"messages\"][-1].content)"
   ]
  },
  {
   "cell_type": "code",
   "execution_count": 19,
   "id": "65e6b006",
   "metadata": {},
   "outputs": [
    {
     "name": "stdout",
     "output_type": "stream",
     "text": [
      "[StateMachine] Starting: __entry__\n",
      "[StateMachine] Executing step: message_prep\n",
      "[StateMachine] Executing step: llm_processor\n",
      "[StateMachine] Executing step: tool_executor\n",
      "[StateMachine] Executing step: llm_processor\n",
      "[StateMachine] Executing step: tool_executor\n",
      "[StateMachine] Executing step: llm_processor\n",
      "[StateMachine] Terminating: __termination__\n",
      "\n",
      "Messages from run 2:\n",
      " -> (role = system, content = You are a web-aware assistant that can search for updated information. For each query, you will search the web for current information using Tavily's AI-optimized search and provide a comprehensive answer.\n",
      "Always cite your sources and explain any discrepancies found.\n",
      "Be particularly attentive to dates and time-sensitive information., tool_calls = None)\n",
      " -> (role = user, content = Who won the 2025 Oscar for International Movie?, tool_calls = None)\n",
      " -> (role = assistant, content = None, tool_calls = [ChatCompletionMessageToolCall(id='call_iKjiVHX2FxU1q7MV1DifJoc7', function=Function(arguments='{\"query\":\"2025 Oscar winner International Movie\",\"search_depth\":\"basic\"}', name='web_search'), type='function')])\n",
      " -> (role = tool, content = \"{'answer': 'Brazil\\\\'s \\\"I\\\\'m Still Here\\\" won the 2025 Oscar for Best International Feature Film. The film is based on a true story set in 1970s Rio de Janeiro. Fernanda Torres starred in the film.', 'results': [{'url': 'https://www.npr.org/2025/03/02/nx-s1-5315313/oscars-2025-im-still-here-brazil-best-international-feature', 'title': \\\"Oscars 2025: Brazil's 'I'm Still Here' wins best international feature\\\", 'content': \\\"**Oscars 2025: Brazil\\u2019s \\u2018I\\u2019m Still Here\\u2019 wins best international feature** **The film is based on a true story set in 1970s Rio de Janeiro, when Brazil was living under a military dictatorship.** # Brazil's 'I'm Still Here' wins best international feature at the Oscars *I'm Still Here* director Walter Salles, left, and star Fernanda Torres arrive at the Oscars on Sunday. **Richard Shotwell/Invision/AP**  ****hide caption**** Actress Fernanda Torres was also nominated for an Oscar for her leading role as Eunice Paiva. *I'm Still Here* also features Torres' real-life legendary mother, 95-year-old Fernanda Montenegro, who plays an older version of Paiva in the film. ### A family endures a dictatorship in the Oscar-nominated 'I'm Still Here'\\\", 'score': 0.8839694, 'raw_content': None}, {'url': 'https://abc.com/news/8d96bb37-bd59-4c28-a470-46f244f63b3b/category/3590742', 'title': 'Oscars 2025 Winners: Full List of the 97th Academy Awards Winners!', 'content': 'The Oscar winners 2025 complete list is here! ANORA\\\\xa0\\\\xa0**\\\\\\\\*\\\\\\\\*WINNER\\\\\\\\*\\\\\\\\*** Alex Coco, Samantha Quan and Sean Baker, Producers THE BRUTALIST Nick Gordon, Brian Young, Andrew Morrison, D.J. Gugenheim and Brady Corbet, Producers A COMPLETE UNKNOWN Fred Berger, James Mangold and Alex Heineman, Producers CONCLAVE Tessa Ross, Juliette Howell and Michael A. ANORA\\\\xa0**\\\\\\\\*\\\\\\\\*WINNER\\\\\\\\*\\\\\\\\*** Sean Baker THE BRUTALIST Brady Corbet A COMPLETE UNKNOWN James Mangold EMILIA P\\u00c9REZ Jacques Audiard THE SUBSTANCE Coralie Fargeat ANORA\\\\xa0\\\\xa0**\\\\\\\\*\\\\\\\\*WINNER\\\\\\\\*\\\\\\\\*** Sean Baker THE BRUTALIST David Jancso CONCLAVE Nick Emerson EMILIA P\\u00c9REZ Juliette Welfling WICKED Myron Kerstein A COMPLETE UNKNOWNScreenplay by James Mangold and Jay CocksCONCLAVE\\\\xa0**\\\\\\\\*\\\\\\\\*WINNER\\\\\\\\*\\\\\\\\*** Screenplay by Peter Straughan EMILIA P\\u00c9REZ Screenplay by Jacques Audiard; In collaboration with Thomas Bidegain, L\\u00e9a Mysius and Nicolas Livecchi NICKEL BOYS Screenplay by RaMell Ross & Joslyn Barnes SING SING Screenplay by Clint Bentley, Greg Kwedar; Story by Clint Bentley, Greg Kwedar, Clarence Maclin, John \\\"Divine G\\\" Whitfield', 'score': 0.84277284, 'raw_content': None}, {'url': 'https://6abc.com/post/2025-oscars-best-picture-director-actor-actress-more-see-full-list-winners-97th-academy-awards/15961085/', 'title': '2025 Oscars winners list: See who won for Best Picture, Best ... - 6ABC', 'content': '# 2025 Oscars: Best Picture, Best Director, Best Actor, Best Actress & more | See full list of winners \\\"Anora\\\" has won the Best Picture Oscar at the 2025 Academy Awards. ## Full list of 2025 Oscar winners and nominations: * **\\\"Anora\\\"- WINNER** * **\\\"I\\\\'m Not a Robot\\\"- WINNER** * **\\\"Dune: Part Two\\\"- WINNER** * **\\\"Dune: Part Two\\\"- WINNER** * **\\\"No Other Land\\\"- WINNER** * **\\\"El Mal\\\" from \\\"Emilia P\\u00e9rez\\\"- WINNER** * **\\\"Wicked\\\"- WINNER** * **Zoe Salda\\u00f1a, \\\"Emilia P\\u00e9rez\\\"- WINNER** * **\\\"The Substance\\\"- WINNER** * **\\\"Conclave\\\" Peter Straughan- WINNER** * **\\\"Flow\\\"- WINNER** You also may have rights to opt out from certain third parties selling and sharing your personal information. To learn more, visit \\\"Do Not Sell or Share My Personal Information\\\" and \\\"Targeted Advertising\\\" Opt-Out Rights.', 'score': 0.83678174, 'raw_content': None}, {'url': 'https://www.youtube.com/watch?v=J4ngUjU9gO0', 'title': \\\"'I'm Still Here' Wins Best International Feature Film | 97th Oscars ...\\\", 'content': \\\"'I'm Still Here' Wins Best International Feature Film | 97th Oscars Speech (2025) \\u00b7 Comments.\\\", 'score': 0.7409441, 'raw_content': None}, {'url': 'https://www.oscars.org/oscars/ceremonies/2025', 'title': 'The 97th Academy Awards | 2025 - Oscars.org', 'content': '*   [Academy Film Archive](https://www.oscars.org/film-archive \\\"Site section links\\\") *   [Academy Film Archive](https://www.oscars.org/film-archive \\\"Site section links\\\") [![Image 6: 97th Oscars host Conan O\\\\'Brien](https://www.oscars.org/sites/oscars_org/themes/custom/oscars_org/assets/images/placeholder.lazy-load.jpg)](https://www.oscars.org/sites/oscars/files/2025-03/97_PR_0054.JPG?VersionId=wNByJOtZbVypw5FYUCXRQDd4qjpPb8RG \\\"97th Oscars acting winners - Adrien Brody, Mikey Madison, Zoe Salda\\u00f1a, Kieran Culkin\\\") from Emilia P\\u00e9rez; Music by Cl\\u00e9ment Ducol and Camille; Lyric by Cl\\u00e9ment Ducol, Camille and Jacques Audiard from Emilia P\\u00e9rez; Music and Lyric by Camille and Cl\\u00e9ment Ducol from Elton John: Never Too Late; Music and Lyric by Elton John, Brandi Carlile, Andrew Watt and Bernie Taupin Alex Coco, Samantha Quan and Sean Baker, Producers Nick Gordon, Brian Young, Andrew Morrison, D.J. Gugenheim and Brady Corbet, Producers Fred Berger, James Mangold and Alex Heineman, Producers Pascal Caucheteux and Jacques Audiard, Producers Coralie Fargeat and Tim Bevan & Eric Fellner, Producers', 'score': 0.71305263, 'raw_content': None}], 'search_metadata': {'timestamp': '2025-10-12T00:27:47.525842', 'query': '2025 Oscar winner International Movie'}}\", tool_calls = None)\n",
      " -> (role = assistant, content = The 2025 Oscar for Best International Feature Film was awarded to Brazil's **\"I'm Still Here.\"** The film, directed by Walter Salles and featuring actress Fernanda Torres, is based on a true story set in 1970s Rio de Janeiro during a time of military dictatorship. Torres plays the lead role of Eunice Paiva, and the film also features her mother, the renowned Fernanda Montenegro, in a supporting role.\n",
      "\n",
      "For more information, you can read the full articles from NPR and ABC covering the Oscars:\n",
      "\n",
      "- [NPR Article on \"I'm Still Here\"](https://www.npr.org/2025/03/02/nx-s1-5315313/oscars-2025-im-still-here-brazil-best-international-feature)\n",
      "- [ABC's Complete List of Oscar Winners](https://abc.com/news/8d96bb37-bd59-4c28-a470-46f244f63b3b/category/3590742), tool_calls = None)\n",
      " -> (role = user, content = What are the most recent developments in AI technology?, tool_calls = None)\n",
      " -> (role = assistant, content = None, tool_calls = [ChatCompletionMessageToolCall(id='call_D2n8HfetidTMn5IOUEMBbniC', function=Function(arguments='{\"query\":\"recent developments in AI technology 2025\",\"search_depth\":\"advanced\"}', name='web_search'), type='function')])\n",
      " -> (role = tool, content = \"{'answer': 'AI advancements in 2025 focus on efficiency, reasoning, and scientific collaboration. Major trends include AI-driven drug discovery and improved reasoning in robotics. Regulatory and ethical debates continue to evolve.', 'results': [{'url': 'https://www.morganstanley.com/insights/articles/ai-trends-reasoning-frontier-models-2025-tmt', 'title': '5 AI Trends Shaping Innovation and ROI in 2025 | Morgan Stanley', 'content': 'LLM executives also spoke about working with foundries to design and make custom silicon, to reduce the costs related to developing features such as recommender systems for ads or videos at scale. Many also said that recent AI advancements\\u2014such as continuous learning that enables adaptation based on recent interactions and updates without full retraining\\u2014are positive as software and apps proliferate, creating more real-world usage, data exposure and refined training opportunities. [...] \\u201cRecent AI advancements will harness the power of Jevons Paradox, to drive the long-term demand for AI and further increase the total addressable market for all participants in the ecosystem,\\u201d said Dave Chen, Head of Global Technology Investment Banking at Morgan Stanley, referring to the effect when increased efficiency leads to higher overall consumption.\\\\n\\\\n## 3. LLMs See Potential in AI Reasoning for Enterprises [...] Executives described robust capital expenditures on commercial cloud servers and expanding their AI offerings to improve AI reasoning, as well as creating specialized applications and progress toward agentic AI. They spoke about offsetting costs with customizable chips that optimize compute performance and targeting long-term utilization of their land and construction sites. They also addressedrecent advancements in AI that improve computing efficiency as positive for their businesses, as it', 'score': 0.85216236, 'raw_content': None}, {'url': 'https://www.stateof.ai/', 'title': 'Welcome to State of AI Report 2025', 'content': '3. AI is becoming a scientific collaborator, with systems like DeepMind\\u2019s Co-Scientist and Stanford\\u2019s Virtual Lab autonomously generating, testing, and validating hypotheses. In biology, Profluent\\u2019s ProGen3 showed that scaling laws now apply to proteins too.\\\\n4. Structured reasoning entered the physical world through \\u201cChain-of-Action\\u201d planning, as embodied AI systems such as AI2\\u2019s Molmo-Act and Google\\u2019s Gemini Robotics 1.5 began to reason step-by-step before acting. [...] 3. AI is becoming a scientific collaborator, with systems like DeepMind\\u2019s Co-Scientist and Stanford\\u2019s Virtual Lab autonomously generating, testing, and validating hypotheses. In biology, Profluent\\u2019s ProGen3 showed that scaling laws now apply to proteins too.\\\\n4. Structured reasoning entered the physical world through \\u201cChain-of-Action\\u201d planning, as embodied AI systems such as AI2\\u2019s Molmo-Act and Google\\u2019s Gemini Robotics 1.5 began to reason step-by-step before acting. [...] 8. AI politics hardened further. The U.S. leaned into \\u201cAmerica-first AI,\\u201d Europe\\u2019s AI Act stumbled, and China expanded its open-weights ecosystem and domestic silicon ambitions.\\\\n9. Safety research entered a new, more pragmatic phase. Models can now imitate alignment under supervision, forcing a debate about transparency versus capability. External safety organizations, meanwhile, operate on budgets smaller than a frontier lab\\u2019s daily burn.', 'score': 0.81665546, 'raw_content': None}, {'url': 'https://spectrum.ieee.org/ai-index-2025', 'title': '12 Graphs That Explain the State of AI in 2025', 'content': 'AI for science and medicine is a mini-boom within the AI boom. The report lists a variety of new foundation models that have been released to help researchers in fields such as materials science, weather forecasting, and quantum computing. Many companies are trying to turn AI\\u2019s predictive and generative powers into profitable drug discovery. And OpenAI\\u2019s o1 reasoning model recently scored 96 percent on a benchmark called MedQA, which has questions from medical board exams. [...] Eliza Strickland is a senior editor at IEEE Spectrum covering AI and biomedical engineering.\\\\n\\\\nAI spelled out on lined paper.\\\\n\\\\nIf you read the news about AI, you may feel bombarded with conflicting messages: AI is booming. AI is a bubble. AI\\u2019s current techniques and architectures will keep producing breakthroughs. AI is on an unsustainable path and needs radical new ideas. AI is going to take your job. AI is mostly good for turning your family photos into Studio Ghibli\\u2013style animated images. [...] Cutting through the confusion is the 2025 AI Index from Stanford University\\u2019s Institute for Human-Centered Artificial Intelligence. The 400+ page report is stuffed with graphs and data on the topics of R&D, technical performance, responsible AI, economic impacts, science and medicine, policy, education, and public opinion. As IEEE Spectrum does every year (see our coverage from 2021, 2022, 2023, and 2024), we\\u2019ve read the whole thing and plucked out the graphs that we think tell the real story', 'score': 0.76972175, 'raw_content': None}, {'url': 'https://blog.google/technology/ai/google-ai-updates-june-2025/', 'title': 'The latest AI news we announced in June - Google Blog', 'content': \\\"The Keyword\\\\n\\\\nThe latest AI news we announced in June\\\\n\\\\nSubscribe\\\\n\\\\n# The latest AI news we announced in June\\\\n\\\\nJul 02, 2025\\\\n\\\\n\\u00b7\\\\n\\\\nShare\\\\n\\\\nTwitter Facebook LinkedIn Mail\\\\n\\\\nHere\\u2019s a recap of some of our biggest AI updates from June, including more ways to search with AI Mode, a new way to share your NotebookLM notebooks publicly, and a new AI to help researchers better understand the human genome.\\\\n\\\\nKeyword Team\\\\n\\\\n## Basic explainer [...] POSTED IN:\\\\n\\\\n### Related stories\\\\n\\\\nGoogle Registry\\\\n\\\\n#### 3 lessons learned from launching .google\\\\n\\\\nBy  Christina Yeh\\\\n\\\\n Oct 10, 2025\\\\n\\\\nGoogle Cloud\\\\n\\\\n#### 1,001 real-world gen AI use cases from the world's leading organizations\\\\n\\\\nBy  Matt Renner  &  Matt A.V. Chaban\\\\n\\\\n Oct 09, 2025\\\\n\\\\nSearch\\\\n\\\\n#### Check out the top Halloween trends of 2025 on our Frightgeist site.\\\\n\\\\nBy  TK Breuer\\\\n\\\\n Oct 09, 2025\\\\n\\\\nGoogle Cloud\\\\n\\\\n#### 4 ways Gemini Enterprise makes work easier for everyone\\\\n\\\\nBy  Maryam Gholami\\\\n\\\\n Oct 09, 2025 [...] Google Cloud\\\\n\\\\n#### Gemini Enterprise: The new front door for Google AI in your workplace\\\\n\\\\nBy  Sundar Pichai\\\\n\\\\n Oct 09, 2025\\\\n\\\\nCompany announcements\\\\n\\\\n#### Teaming up with LA28, Team USA and NBCUniversal for the LA28 Olympic and Paralympic Games\\\\n\\\\nBy  Marvin Chow\\\\n\\\\n Oct 08, 2025\\\\n\\\\nLet\\u2019s stay in touch. Get the latest news from Google in your inbox.\\\\n\\\\nSubscribe\\\", 'score': 0.7334523, 'raw_content': None}, {'url': 'https://www.crescendo.ai/news/latest-ai-news-and-updates', 'title': 'The Latest AI News and AI Breakthroughs that Matter Most', 'content': \\\"Recent AI news includes ASML's investment in Mistral AI, Trump's AI image, Apple's lawsuit, and deepfake AI video concerns.\\\", 'score': 0.4651208, 'raw_content': None}], 'search_metadata': {'timestamp': '2025-10-12T00:27:58.293037', 'query': 'recent developments in AI technology 2025'}}\", tool_calls = None)\n",
      " -> (role = assistant, content = None, tool_calls = [ChatCompletionMessageToolCall(id='call_lMQpMRMKTWKITSSi7WrIsJoU', function=Function(arguments='{\"items\":[{\"title\":\"5 AI Trends Shaping Innovation and ROI in 2025 | Morgan Stanley\",\"url\":\"https://www.morganstanley.com/insights/articles/ai-trends-reasoning-frontier-models-2025-tmt\",\"content\":\"Recent AI advancements will harness the power of Jevons Paradox, to drive the long-term demand for AI and further increase the total addressable market for all participants in the ecosystem.\"},{\"title\":\"Welcome to State of AI Report 2025\",\"url\":\"https://www.stateof.ai/\",\"content\":\"AI is becoming a scientific collaborator, with systems like DeepMind’s Co-Scientist autonomously generating, testing, and validating hypotheses.\"},{\"title\":\"12 Graphs That Explain the State of AI in 2025\",\"url\":\"https://spectrum.ieee.org/ai-index-2025\",\"content\":\"AI for science and medicine is a mini-boom within the AI boom, with new foundation models helping researchers in various fields.\"},{\"title\":\"The latest AI news we announced in June - Google Blog\",\"url\":\"https://blog.google/technology/ai/google-ai-updates-june-2025/\",\"content\":\"Here’s a recap of some of our biggest AI updates from June, including new ways to search with AI Mode.\"}]}', name='compare_sources'), type='function')])\n",
      " -> (role = tool, content = \"{'common_terms': [], 'unique_terms_by_source': {'5 AI Trends Shaping Innovation and ROI in 2025 | Morgan Stanley': ['addressable', 'advancements', 'all', 'demand', 'drive', 'ecosystem', 'further', 'harness', 'increase', 'jevons', 'long', 'market', 'paradox', 'participants', 'power', 'recent', 'term', 'total'], 'Welcome to State of AI Report 2025': ['autonomously', 'becoming', 'collaborator', 'deepmind', 'generating', 'hypotheses', 'like', 'scientific', 'scientist', 'systems', 'testing', 'validating'], '12 Graphs That Explain the State of AI in 2025': ['boom', 'fields', 'foundation', 'helping', 'medicine', 'mini', 'models', 'researchers', 'science', 'various', 'within'], 'The latest AI news we announced in June - Google Blog': ['biggest', 'here', 'including', 'june', 'mode', 'our', 'recap', 'search', 'some', 'updates', 'ways']}, 'highlights': [{'title': '5 AI Trends Shaping Innovation and ROI in 2025 | Morgan Stanley', 'url': 'https://www.morganstanley.com/insights/articles/ai-trends-reasoning-frontier-models-2025-tmt', 'snippet': 'Recent AI advancements will harness the power of Jevons Paradox, to drive the long-term demand for AI and further increas'}, {'title': 'Welcome to State of AI Report 2025', 'url': 'https://www.stateof.ai/', 'snippet': 'AI is becoming a scientific collaborator, with systems like DeepMind\\u2019s Co-Scientist autonomously generating, testing, and'}, {'title': '12 Graphs That Explain the State of AI in 2025', 'url': 'https://spectrum.ieee.org/ai-index-2025', 'snippet': 'AI for science and medicine is a mini-boom within the AI boom, with new foundation models helping researchers in various '}]}\", tool_calls = None)\n",
      " -> (role = assistant, content = Recent developments in AI technology as of 2025 demonstrate significant advancements across various domains, including efficiency, scientific collaboration, and enhanced reasoning capabilities. Here are some key trends and innovations:\n",
      "\n",
      "1. **Efficiency and Customization**:\n",
      "   - Companies are focusing on developing custom silicon to reduce costs related to AI features, such as recommender systems. This includes advancements in continuous learning, which allows AI systems to adapt based on interactions without needing full retraining. This adaptability is expected to contribute to a long-term increase in demand for AI technologies, as noted by experts at Morgan Stanley ([Morgan Stanley](https://www.morganstanley.com/insights/articles/ai-trends-reasoning-frontier-models-2025-tmt)).\n",
      "\n",
      "2. **Scientific Collaboration**:\n",
      "   - AI is increasingly acting as a collaborator in scientific research. For instance, systems like DeepMind's Co-Scientist and Stanford's Virtual Lab are capable of autonomously generating, testing, and validating scientific hypotheses. This approach represents a shift towards AI systems that are not just tools but active participants in the scientific process ([State of AI Report 2025](https://www.stateof.ai/)).\n",
      "\n",
      "3. **AI in Medicine and Science**:\n",
      "   - The integration of AI in fields like drug discovery is experiencing a mini-boom. New foundation models have been developed to assist researchers in materials science, weather forecasting, and more. Notably, OpenAI's reasoning model has shown high performance on medical board exam questions, indicating its potential utility in healthcare ([IEEE Spectrum](https://spectrum.ieee.org/ai-index-2025)).\n",
      "\n",
      "4. **User-Focused AI Updates**:\n",
      "   - Companies like Google are continuously updating their AI offerings. Recent updates include improvements to search functionalities and tools designed to assist researchers in understanding complex datasets, such as the human genome ([Google Blog](https://blog.google/technology/ai/google-ai-updates-june-2025/)).\n",
      "\n",
      "These developments highlight a broader trend towards AI systems that are more efficient, collaborative, and capable of tackling complex scientific challenges. As the technology evolves, ongoing discussions about regulatory and ethical implications will also shape its future trajectory., tool_calls = None)\n"
     ]
    }
   ],
   "source": [
    "run2 = web_agent.invoke(\n",
    "    query=\"What are the most recent developments in AI technology?\", \n",
    ")\n",
    "print(\"\\nMessages from run 2:\")\n",
    "messages = run2.get_final_state()[\"messages\"]\n",
    "print_messages(messages)"
   ]
  },
  {
   "cell_type": "code",
   "execution_count": 20,
   "id": "59054976",
   "metadata": {},
   "outputs": [
    {
     "name": "stdout",
     "output_type": "stream",
     "text": [
      "Recent developments in AI technology as of 2025 demonstrate significant advancements across various domains, including efficiency, scientific collaboration, and enhanced reasoning capabilities. Here are some key trends and innovations:\n",
      "\n",
      "1. **Efficiency and Customization**:\n",
      "   - Companies are focusing on developing custom silicon to reduce costs related to AI features, such as recommender systems. This includes advancements in continuous learning, which allows AI systems to adapt based on interactions without needing full retraining. This adaptability is expected to contribute to a long-term increase in demand for AI technologies, as noted by experts at Morgan Stanley ([Morgan Stanley](https://www.morganstanley.com/insights/articles/ai-trends-reasoning-frontier-models-2025-tmt)).\n",
      "\n",
      "2. **Scientific Collaboration**:\n",
      "   - AI is increasingly acting as a collaborator in scientific research. For instance, systems like DeepMind's Co-Scientist and Stanford's Virtual Lab are capable of autonomously generating, testing, and validating scientific hypotheses. This approach represents a shift towards AI systems that are not just tools but active participants in the scientific process ([State of AI Report 2025](https://www.stateof.ai/)).\n",
      "\n",
      "3. **AI in Medicine and Science**:\n",
      "   - The integration of AI in fields like drug discovery is experiencing a mini-boom. New foundation models have been developed to assist researchers in materials science, weather forecasting, and more. Notably, OpenAI's reasoning model has shown high performance on medical board exam questions, indicating its potential utility in healthcare ([IEEE Spectrum](https://spectrum.ieee.org/ai-index-2025)).\n",
      "\n",
      "4. **User-Focused AI Updates**:\n",
      "   - Companies like Google are continuously updating their AI offerings. Recent updates include improvements to search functionalities and tools designed to assist researchers in understanding complex datasets, such as the human genome ([Google Blog](https://blog.google/technology/ai/google-ai-updates-june-2025/)).\n",
      "\n",
      "These developments highlight a broader trend towards AI systems that are more efficient, collaborative, and capable of tackling complex scientific challenges. As the technology evolves, ongoing discussions about regulatory and ethical implications will also shape its future trajectory.\n"
     ]
    }
   ],
   "source": [
    "print(run2.get_final_state()[\"messages\"][-1].content)"
   ]
  },
  {
   "cell_type": "markdown",
   "id": "89e2055c",
   "metadata": {},
   "source": [
    "## Advanced"
   ]
  },
  {
   "cell_type": "markdown",
   "id": "5478d183",
   "metadata": {},
   "source": [
    "You can modify `agents.py` to include: \n",
    "- a comparison field in the state schema\n",
    "- a web search step\n",
    "- a comparison step in the workflow"
   ]
  }
 ],
 "metadata": {
  "kernelspec": {
   "display_name": "Python 3 (ipykernel)",
   "language": "python",
   "name": "python3"
  },
  "language_info": {
   "codemirror_mode": {
    "name": "ipython",
    "version": 3
   },
   "file_extension": ".py",
   "mimetype": "text/x-python",
   "name": "python",
   "nbconvert_exporter": "python",
   "pygments_lexer": "ipython3",
   "version": "3.13.1"
  }
 },
 "nbformat": 4,
 "nbformat_minor": 5
}
