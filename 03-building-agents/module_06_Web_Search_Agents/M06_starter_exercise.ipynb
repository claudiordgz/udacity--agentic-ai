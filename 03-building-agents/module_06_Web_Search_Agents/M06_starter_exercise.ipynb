{
 "cells": [
  {
   "cell_type": "markdown",
   "id": "e3778898",
   "metadata": {},
   "source": [
    "# [STARTER] Exercise - Build a Web-Aware Agent with Search and Knowledge Comparison\n",
    "\n",
    "In this exercise, you'll build an agent that can search the web for current information and compare\n",
    "it with its internal knowledge. This demonstrates how to enhance an LLM's capabilities with real-time\n",
    "web data and how to critically analyze differences between sources.\n"
   ]
  },
  {
   "cell_type": "markdown",
   "id": "12e57bd8",
   "metadata": {},
   "source": [
    "## Challenge\n",
    "\n",
    "Your task is to create an agent that can:\n",
    "\n",
    "- Implement web search functionality using Tavily API\n",
    "- Parse and process search results effectively\n",
    "- Handle different types of queries (news, facts, events)\n",
    "- Extract relevant information from search results"
   ]
  },
  {
   "cell_type": "markdown",
   "id": "9fa44fc7",
   "metadata": {},
   "source": [
    "## Setup\n",
    "First, let's import the necessary libraries:"
   ]
  },
  {
   "cell_type": "code",
   "execution_count": 2,
   "id": "8bac7b97-1aab-4922-a6a0-017ebc6ffd4c",
   "metadata": {},
   "outputs": [],
   "source": [
    "from pathlib import Path\n",
    "import sys\n",
    "\n",
    "nb_dir = Path(__file__).parent if \"__file__\" in globals() else Path.cwd()\n",
    "parent = nb_dir.parent  # points to 03-building-agents\n",
    "if str(parent) not in sys.path:\n",
    "    sys.path.insert(0, str(parent))"
   ]
  },
  {
   "cell_type": "code",
   "execution_count": 3,
   "id": "08286c75",
   "metadata": {},
   "outputs": [],
   "source": [
    "import os\n",
    "from datetime import datetime\n",
    "from typing import List, Dict\n",
    "from dotenv import load_dotenv\n",
    "from tavily import TavilyClient\n",
    "\n",
    "from lib.agents import Agent\n",
    "from lib.messages import BaseMessage\n",
    "from lib.tooling import tool"
   ]
  },
  {
   "cell_type": "code",
   "execution_count": 4,
   "id": "4002bf4c",
   "metadata": {},
   "outputs": [
    {
     "data": {
      "text/plain": [
       "False"
      ]
     },
     "execution_count": 4,
     "metadata": {},
     "output_type": "execute_result"
    }
   ],
   "source": [
    "load_dotenv()"
   ]
  },
  {
   "cell_type": "markdown",
   "id": "97097944",
   "metadata": {},
   "source": [
    "## Play with Tavily"
   ]
  },
  {
   "cell_type": "code",
   "execution_count": 5,
   "id": "969ea654",
   "metadata": {},
   "outputs": [],
   "source": [
    "api_key = os.getenv(\"TAVILY_API_KEY\")\n",
    "client = TavilyClient(api_key=api_key)"
   ]
  },
  {
   "cell_type": "code",
   "execution_count": 6,
   "id": "0ef0dd71",
   "metadata": {},
   "outputs": [],
   "source": [
    "# [TODO] Define a query and run\n",
    "query = \"what is solana\"\n",
    "result = client.search(query)"
   ]
  },
  {
   "cell_type": "code",
   "execution_count": 7,
   "id": "72354d62",
   "metadata": {},
   "outputs": [
    {
     "data": {
      "text/plain": [
       "{'query': 'what is solana',\n",
       " 'follow_up_questions': None,\n",
       " 'answer': None,\n",
       " 'images': [],\n",
       " 'results': [{'url': 'https://solana.com/learn/what-is-solana',\n",
       "   'title': 'What is Solana?',\n",
       "   'content': 'Solana is a high-performance network that enables fast, secure, and affordable digital transactions. It powers thousands of applications.',\n",
       "   'score': 0.9396537,\n",
       "   'raw_content': None},\n",
       "  {'url': 'https://www.forbes.com/sites/digital-assets/article/what-is-solana-sol-how-it-works-and-what-to-know/',\n",
       "   'title': 'What Is Solana (SOL)? How It Works And What To Know - Forbes',\n",
       "   'content': 'Solana is a high-performance public blockchain platform that provides fast transaction speeds and low fees for developers and users, especially',\n",
       "   'score': 0.92359936,\n",
       "   'raw_content': None},\n",
       "  {'url': 'https://www.coinbase.com/learn/crypto-basics/what-is-solana',\n",
       "   'title': 'What is Solana (SOL)? - Coinbase',\n",
       "   'content': 'Solana’s native cryptocurrency is [SOL](https://www.coinbase.com/price/solana), which is used to pay transaction fees and for [staking](https://www.coinbase.com/learn/crypto-basics/what-is-staking). Like [Ethereum](https://www.coinbase.com/price/ethereum), Solana is both a cryptocurrency _and_ a flexible platform for running crypto apps — everything from Degenerate Apes to the Serum [decentralized exchange](https://www.coinbase.com/learn/crypto-basics/what-is-a-dex) (or DEX). Many newer cryptocurrencies, like [Cardano](https://www.coinbase.com/price/cardano), use a consensus mechanism called [proof of stake](https://www.coinbase.com/learn/crypto-basics/what-is-proof-of-work-or-proof-of-stake) — in which network participants “stake” their own crypto to get a chance to validate transactions and earn newly minted crypto and fees. Like Ethereum, Solana is a computing platform that can interact with [smart contracts](https://www.coinbase.com/learn/crypto-basics/what-is-a-smart-contract). *   [What is proof of history?](https://www.coinbase.com/learn/crypto-basics/what-is-solana#what-is-proof-of-history) *   [How does staking work with Solana?](https://www.coinbase.com/learn/crypto-basics/what-is-solana#how-does-staking-work) *   [Cookie policy](https://www.coinbase.com/legal/cookie) *   [Cookie preferences](https://www.coinbase.com/learn/crypto-basics/what-is-solana#) *   [Do Not Share My Personal Information](https://www.coinbase.com/learn/crypto-basics/what-is-solana#) For more information about the different cookies we are using, read the [Cookie Policy](https://www.coinbase.com/legal/cookie#:~:text=Targeting%20purposes,to%20you%20or%20your%20interests.).',\n",
       "   'score': 0.86767644,\n",
       "   'raw_content': None},\n",
       "  {'url': 'https://www.reddit.com/r/solana/comments/1idoual/im_confused_what_is_solana_actually_for_what_is/',\n",
       "   'title': \"I'm confused. What is Solana actually for? What is it use case? - Reddit\",\n",
       "   'content': 'Solana is much more than just a blockchain for meme coins. Meme coins have gained popularity on Solana due to its low fees and fast transactions',\n",
       "   'score': 0.85825616,\n",
       "   'raw_content': None},\n",
       "  {'url': 'https://www.youtube.com/watch?v=GZ-bYOCMfmE',\n",
       "   'title': 'Solana (SOL), Explained in Under 4 Minutes - YouTube',\n",
       "   'content': \"Solana (SOL), Explained in Under 4 Minutes\\nBinance\\n1190000 subscribers\\n351 likes\\n10174 views\\n26 Sep 2025\\n*Known for its lightning-fast transactions and as a launchpad for some of crypto's biggest trends, Solana stands out as a high-speed leading Layer 1 blockchain.* It powers a diverse range of cutting-edge projects, from viral memecoins that capture community attention, to new technologies such as Decentralized Physical Infrastructure Projects (or DePIN) networks where users are rewarded for building real-world assets like wireless networks and digital maps.\\n\\nIn this quick explainer, learn what makes Solana different, how its unique Proof of History and Proof of Stake consensus works, and its vision for scalable, low-cost blockchain transactions that can support the next generation of decentralized applications. \\n\\n*In this video, you will learn:*\\n✅ What is Solana and who founded it\\n✅ How Proof of History enables incredible transaction speeds\\n✅ Comparisons of Solana’s speed and fees versus Bitcoin and Ethereum\\n✅ Solana’s native token (SOL) and its role in staking and fees\\n✅ Challenges Solana has faced and the upgrades improving stability\\n✅ Key ecosystem highlights: DeFi, NFTs, memecoins, and DePIN projects\\n✅ Solana’s energy efficiency and environmental impact\\n✅ Why Solana matters in the future of blockchain scalability\\n\\n*📚 Resources:* \\nWhat is Solana?\\nhttps://academy.binance.com/en/learn-and-earn/course/what-is-solana-sol-BN823220726121590785/\\n\\n*⏱️ Timestamps:*\\n⏳ 00:00 – Introduction: Solana (SOL)\\n⏳ 00:32 – History of Solana and the concept of Proof of History\\n⏳ 01:11 – Solana’s speed and fee advantages over Bitcoin and Ethereum\\n⏳ 01:51 – Solana (SOL) token overview and market metrics\\n⏳ 02:10 – Solana Network challenges and ongoing upgrades\\n⏳ 02:29 – Solana’s Ecosystem and cultural influence in crypto\\n⏳ 02:49 – Solana’s Proof of Stake (PoS) mechanism: Energy efficiency and sustainability\\n⏳ 03:30 – Outro\\n\\n#sol #solana #cryptoexplained #binanceexplains #solanaetf #binance \\n\\n*⚠️ RISK WARNING:* Digital asset prices can be volatile. The value of your investment may go down or up and you may not get back the amount invested. You are solely responsible for your investment decisions and Binance is not liable for any losses you may incur. It is your responsibility to ascertain whether you are permitted to use the services of Binance based on your individual circumstances. Not financial advice. For more information, see our Terms of Use and Risk Warning.\\n\\n*📢 Join the conversation:*\\n➡️ Twitter/X: https://twitter.com/binance\\n➡️ Instagram: https://www.instagram.com/binance\\n➡️ Facebook: https://www.facebook.com/binance\\n➡️ TikTok: https://www.tiktok.com/@binance\\n➡️ LinkedIn: https://www.linkedin.com/company/binance\\n➡️ Reddit: https://www.reddit.com/r/binance\\n\\n*🔗 Download Binance here (iOS, Android):* https://binance.onelink.me/y874/cb98de36\\n*🔗 Sign up for Binance here:* https://www.binance.com/en?ref=ERQKP7ND&utm_source=BinanceYoutube&utm_medium=GlobalSocial&utm_campaign=GlobalSocial\\n45 comments\\n\",\n",
       "   'score': 0.82425016,\n",
       "   'raw_content': None}],\n",
       " 'response_time': 1.09,\n",
       " 'request_id': 'c64f8053-b03a-488c-b23a-af4d0d135485'}"
      ]
     },
     "execution_count": 7,
     "metadata": {},
     "output_type": "execute_result"
    }
   ],
   "source": [
    "result"
   ]
  },
  {
   "cell_type": "markdown",
   "id": "b04a0de2",
   "metadata": {},
   "source": [
    "## Define Web Search tool"
   ]
  },
  {
   "cell_type": "code",
   "execution_count": 8,
   "id": "10a41cb2",
   "metadata": {},
   "outputs": [],
   "source": [
    "from lib.tools import web_search, compare_sources"
   ]
  },
  {
   "cell_type": "code",
   "execution_count": 9,
   "id": "9f67b873",
   "metadata": {},
   "outputs": [],
   "source": [
    "tools = [web_search, compare_sources]"
   ]
  },
  {
   "cell_type": "markdown",
   "id": "29d998d2",
   "metadata": {},
   "source": [
    "## Define Agents"
   ]
  },
  {
   "cell_type": "markdown",
   "id": "aa26baa4",
   "metadata": {},
   "source": [
    "The first agent should not use tools, just its own knowledge. The second one should have web search tool enabled."
   ]
  },
  {
   "cell_type": "code",
   "execution_count": 10,
   "id": "a8e4b392",
   "metadata": {},
   "outputs": [],
   "source": [
    "# [TODO] Agent with no tools\n",
    "simple_agent = Agent(\n",
    "    model_name=\"gpt-4o-mini\",\n",
    "    instructions=\"You are a helpful assistant\",\n",
    ")"
   ]
  },
  {
   "cell_type": "code",
   "execution_count": 11,
   "id": "c7ff665d",
   "metadata": {},
   "outputs": [],
   "source": [
    "# [TODO] Agent with web search tool\n",
    "instructions = (\n",
    "    \"You are a helpful assistant. Use web_search for time-sensitive or factual queries. \"\n",
    "    \"Return 3–5 concise bullets with source titles and URLs; include a brief synthesis if available.\"\n",
    ")\n",
    "\n",
    "web_agent = Agent(model_name=\"gpt-4o-mini\", instructions=instructions, tools=tools)\n"
   ]
  },
  {
   "cell_type": "code",
   "execution_count": 12,
   "id": "c74d8aef",
   "metadata": {},
   "outputs": [],
   "source": [
    "def print_messages(messages: List[BaseMessage]):\n",
    "    for m in messages:\n",
    "        print(f\" -> (role = {m.role}, content = {m.content}, tool_calls = {getattr(m, 'tool_calls', None)})\")"
   ]
  },
  {
   "cell_type": "markdown",
   "id": "bf6168f5",
   "metadata": {},
   "source": [
    "## Run your Agents"
   ]
  },
  {
   "cell_type": "markdown",
   "id": "00d41b25",
   "metadata": {},
   "source": [
    "Run the Agents and compare them. The following queries are just for reference. Change them as you want."
   ]
  },
  {
   "cell_type": "markdown",
   "id": "e41026a0",
   "metadata": {},
   "source": [
    "**Simple Agent**\n",
    "\n",
    "**Note**: This example relies on the date being recent enough that the answer will not be in the model's training data. Try with other current events/dates if needed to get similar results."
   ]
  },
  {
   "cell_type": "code",
   "execution_count": 12,
   "id": "647e7987",
   "metadata": {},
   "outputs": [
    {
     "name": "stdout",
     "output_type": "stream",
     "text": [
      "[StateMachine] Starting: __entry__\n",
      "[StateMachine] Executing step: message_prep\n",
      "[StateMachine] Executing step: llm_processor\n",
      "[StateMachine] Terminating: __termination__\n",
      "\n",
      "Messages from run 1:\n",
      " -> (role = system, content = You are a helpful assistant, tool_calls = None)\n",
      " -> (role = user, content = Who won the 2025 Oscar for International Movie?, tool_calls = None)\n",
      " -> (role = assistant, content = I'm sorry, but I don't have information about events or winners beyond October 2023, including the 2025 Oscars. You may want to check the latest sources or official announcements for the most current information., tool_calls = None)\n"
     ]
    }
   ],
   "source": [
    "run1 = simple_agent.invoke(\n",
    "    query=\"Who won the 2025 Oscar for International Movie?\", \n",
    ")\n",
    "\n",
    "print(\"\\nMessages from run 1:\")\n",
    "messages = run1.get_final_state()[\"messages\"]\n",
    "print_messages(messages)"
   ]
  },
  {
   "cell_type": "code",
   "execution_count": 13,
   "id": "14dd2e35",
   "metadata": {},
   "outputs": [
    {
     "name": "stdout",
     "output_type": "stream",
     "text": [
      "I'm sorry, but I don't have information about events or winners beyond October 2023, including the 2025 Oscars. You may want to check the latest sources or official announcements for the most current information.\n"
     ]
    }
   ],
   "source": [
    "print(run1.get_final_state()[\"messages\"][-1].content)"
   ]
  },
  {
   "cell_type": "code",
   "execution_count": 14,
   "id": "a057ad60",
   "metadata": {},
   "outputs": [
    {
     "name": "stdout",
     "output_type": "stream",
     "text": [
      "[StateMachine] Starting: __entry__\n",
      "[StateMachine] Executing step: message_prep\n",
      "[StateMachine] Executing step: llm_processor\n",
      "[StateMachine] Terminating: __termination__\n",
      "\n",
      "Messages from run 2:\n",
      " -> (role = system, content = You are a helpful assistant, tool_calls = None)\n",
      " -> (role = user, content = Who won the 2025 Oscar for International Movie?, tool_calls = None)\n",
      " -> (role = assistant, content = I'm sorry, but I don't have information about events or winners beyond October 2023, including the 2025 Oscars. You may want to check the latest sources or official announcements for the most current information., tool_calls = None)\n",
      " -> (role = user, content = What are the most recent developments in AI technology?, tool_calls = None)\n",
      " -> (role = assistant, content = As of my last knowledge update in October 2023, several significant developments in AI technology were making headlines:\n",
      "\n",
      "1. **Generative AI Advancements**: Tools like OpenAI's ChatGPT and other generative models have become more sophisticated, enabling better text generation, image synthesis, and even video creation. These models are being integrated into various applications, enhancing productivity tools and creative software.\n",
      "\n",
      "2. **AI in Healthcare**: AI continues to make strides in healthcare, with advancements in diagnostic tools, personalized medicine, and drug discovery. Machine learning algorithms are increasingly used to analyze medical images and predict patient outcomes.\n",
      "\n",
      "3. **AI Ethics and Regulation**: There has been a growing focus on the ethical implications of AI, leading to discussions about regulations to ensure responsible AI development and deployment. Governments and organizations are working on frameworks to address bias, privacy, and accountability in AI systems.\n",
      "\n",
      "4. **AI for Climate Change**: AI technologies are being leveraged to tackle climate change, optimizing energy consumption, improving efficiency in various industries, and modeling climate scenarios to inform policy decisions.\n",
      "\n",
      "5. **Autonomous Systems**: Progress in autonomous vehicles and drones has continued, with improvements in navigation, safety, and efficiency. Companies are testing these technologies in real-world scenarios, moving closer to widespread adoption.\n",
      "\n",
      "6. **Natural Language Processing (NLP)**: Significant improvements in NLP have been made, particularly in understanding context, sentiment analysis, and multilingual capabilities, making AI more accessible and useful for global communication.\n",
      "\n",
      "7. **AI and Robotics**: The integration of AI with robotics has led to more capable robots for various applications, from manufacturing to service industries. These robots are becoming more adept at complex tasks and human interaction.\n",
      "\n",
      "8. **AI in Creative Arts**: AI-generated art, music, and writing have gained popularity, leading to discussions about copyright, creativity, and the role of AI in artistic expression.\n",
      "\n",
      "9. **AI Models Getting Larger**: There has been a trend towards developing larger and more complex AI models, which require significant computational power but offer enhanced capabilities.\n",
      "\n",
      "For the most up-to-date developments, I recommend checking reputable tech news sources or scientific journals, as advancements in AI occur rapidly., tool_calls = None)\n"
     ]
    }
   ],
   "source": [
    "run2 = simple_agent.invoke(\n",
    "    query=\"What are the most recent developments in AI technology?\", \n",
    ")\n",
    "print(\"\\nMessages from run 2:\")\n",
    "messages = run2.get_final_state()[\"messages\"]\n",
    "print_messages(messages)"
   ]
  },
  {
   "cell_type": "code",
   "execution_count": 15,
   "id": "c781d4b1",
   "metadata": {},
   "outputs": [
    {
     "name": "stdout",
     "output_type": "stream",
     "text": [
      "As of my last knowledge update in October 2023, several significant developments in AI technology were making headlines:\n",
      "\n",
      "1. **Generative AI Advancements**: Tools like OpenAI's ChatGPT and other generative models have become more sophisticated, enabling better text generation, image synthesis, and even video creation. These models are being integrated into various applications, enhancing productivity tools and creative software.\n",
      "\n",
      "2. **AI in Healthcare**: AI continues to make strides in healthcare, with advancements in diagnostic tools, personalized medicine, and drug discovery. Machine learning algorithms are increasingly used to analyze medical images and predict patient outcomes.\n",
      "\n",
      "3. **AI Ethics and Regulation**: There has been a growing focus on the ethical implications of AI, leading to discussions about regulations to ensure responsible AI development and deployment. Governments and organizations are working on frameworks to address bias, privacy, and accountability in AI systems.\n",
      "\n",
      "4. **AI for Climate Change**: AI technologies are being leveraged to tackle climate change, optimizing energy consumption, improving efficiency in various industries, and modeling climate scenarios to inform policy decisions.\n",
      "\n",
      "5. **Autonomous Systems**: Progress in autonomous vehicles and drones has continued, with improvements in navigation, safety, and efficiency. Companies are testing these technologies in real-world scenarios, moving closer to widespread adoption.\n",
      "\n",
      "6. **Natural Language Processing (NLP)**: Significant improvements in NLP have been made, particularly in understanding context, sentiment analysis, and multilingual capabilities, making AI more accessible and useful for global communication.\n",
      "\n",
      "7. **AI and Robotics**: The integration of AI with robotics has led to more capable robots for various applications, from manufacturing to service industries. These robots are becoming more adept at complex tasks and human interaction.\n",
      "\n",
      "8. **AI in Creative Arts**: AI-generated art, music, and writing have gained popularity, leading to discussions about copyright, creativity, and the role of AI in artistic expression.\n",
      "\n",
      "9. **AI Models Getting Larger**: There has been a trend towards developing larger and more complex AI models, which require significant computational power but offer enhanced capabilities.\n",
      "\n",
      "For the most up-to-date developments, I recommend checking reputable tech news sources or scientific journals, as advancements in AI occur rapidly.\n"
     ]
    }
   ],
   "source": [
    "print(run2.get_final_state()[\"messages\"][-1].content)"
   ]
  },
  {
   "cell_type": "markdown",
   "id": "237903c7",
   "metadata": {},
   "source": [
    "**Web Agent**"
   ]
  },
  {
   "cell_type": "code",
   "execution_count": 13,
   "id": "89c9238c",
   "metadata": {},
   "outputs": [
    {
     "name": "stdout",
     "output_type": "stream",
     "text": [
      "[StateMachine] Starting: __entry__\n",
      "[StateMachine] Executing step: message_prep\n",
      "[StateMachine] Executing step: llm_processor\n",
      "[StateMachine] Executing step: tool_executor\n",
      "[StateMachine] Executing step: llm_processor\n",
      "[StateMachine] Terminating: __termination__\n",
      "\n",
      "Messages from run 1:\n",
      " -> (role = system, content = You are a helpful assistant. Use web_search for time-sensitive or factual queries. Return 3–5 concise bullets with source titles and URLs; include a brief synthesis if available., tool_calls = None)\n",
      " -> (role = user, content = Who won the 2025 Oscar for International Movie?, tool_calls = None)\n",
      " -> (role = assistant, content = None, tool_calls = [ChatCompletionMessageToolCall(id='call_FMPaJO6uWQxkkG5Bfm7MGAC8', function=Function(arguments='{\"query\":\"2025 Oscar for International Movie winner\",\"search_depth\":\"basic\",\"max_results\":5}', name='web_search'), type='function')])\n",
      " -> (role = tool, content = \"{'answer': 'Brazil\\\\'s \\\"I\\\\'m Still Here\\\" won the 2025 Oscar for Best International Feature Film. The film is based on a true story set in 1970s Rio de Janeiro. Fernanda Torres was nominated for an Oscar for her role.', 'results': [{'url': 'https://www.oscars.org/oscars/ceremonies/2025', 'title': 'The 97th Academy Awards | 2025 - Oscars.org', 'content': '*   [Academy Film Archive](https://www.oscars.org/film-archive \\\"Site section links\\\") *   [Academy Film Archive](https://www.oscars.org/film-archive \\\"Site section links\\\") [![Image 6: 97th Oscars host Conan O\\\\'Brien](https://www.oscars.org/sites/oscars_org/themes/custom/oscars_org/assets/images/placeholder.lazy-load.jpg)](https://www.oscars.org/sites/oscars/files/2025-03/97_PR_0054.JPG?VersionId=wNByJOtZbVypw5FYUCXRQDd4qjpPb8RG \\\"97th Oscars acting winners - Adrien Brody, Mikey Madison, Zoe Salda\\u00f1a, Kieran Culkin\\\") from Emilia P\\u00e9rez; Music by Cl\\u00e9ment Ducol and Camille; Lyric by Cl\\u00e9ment Ducol, Camille and Jacques Audiard from Emilia P\\u00e9rez; Music and Lyric by Camille and Cl\\u00e9ment Ducol from Elton John: Never Too Late; Music and Lyric by Elton John, Brandi Carlile, Andrew Watt and Bernie Taupin Alex Coco, Samantha Quan and Sean Baker, Producers Nick Gordon, Brian Young, Andrew Morrison, D.J. Gugenheim and Brady Corbet, Producers Fred Berger, James Mangold and Alex Heineman, Producers Pascal Caucheteux and Jacques Audiard, Producers Coralie Fargeat and Tim Bevan & Eric Fellner, Producers', 'score': 0.98593, 'raw_content': None}, {'url': 'https://www.youtube.com/watch?v=J4ngUjU9gO0', 'title': \\\"'I'm Still Here' Wins Best International Feature Film | 97th Oscars ...\\\", 'content': \\\"'I'm Still Here' Wins Best International Feature Film | 97th Oscars Speech (2025) \\u00b7 Comments.\\\", 'score': 0.98281, 'raw_content': None}, {'url': 'https://www.npr.org/2025/03/02/nx-s1-5315313/oscars-2025-im-still-here-brazil-best-international-feature', 'title': \\\"Oscars 2025: Brazil's 'I'm Still Here' wins best international feature\\\", 'content': \\\"**Oscars 2025: Brazil\\u2019s \\u2018I\\u2019m Still Here\\u2019 wins best international feature** **The film is based on a true story set in 1970s Rio de Janeiro, when Brazil was living under a military dictatorship.** # Brazil's 'I'm Still Here' wins best international feature at the Oscars *I'm Still Here* director Walter Salles, left, and star Fernanda Torres arrive at the Oscars on Sunday. **Richard Shotwell/Invision/AP**  ****hide caption**** Actress Fernanda Torres was also nominated for an Oscar for her leading role as Eunice Paiva. *I'm Still Here* also features Torres' real-life legendary mother, 95-year-old Fernanda Montenegro, who plays an older version of Paiva in the film. ### A family endures a dictatorship in the Oscar-nominated 'I'm Still Here'\\\", 'score': 0.97617, 'raw_content': None}, {'url': 'https://en.wikipedia.org/wiki/97th_Academy_Awards', 'title': '97th Academy Awards - Wikipedia', 'content': 'In a press release, AMPAS president Janet Yang and Academy CEO Bill Kramer \\\"Bill Kramer (executive)\\\") explained their decision in selecting the pair stating, \\\"Their love for cinema, their collective creative vision, and their unparalleled expertise in live television make them the perfect team to create an exceptional show for our global audience on the film industry\\\\'s biggest night.\\\" In response, Kapoor and Mullan released a statement saying, \\\"We are thrilled to lead the brilliant Oscars production team again and work alongside the Academy and Disney/ABC \\\"ABC News (United States)\\\") to help create an unforgettable night of television for movie lovers worldwide.\\\" The following month, comedian and former talk show host Conan O\\\\'Brien, who previously hosted two Primetime Emmy Awards telecasts in 2002 and 2006, was selected to host the 2025 gala.', 'score': 0.97289, 'raw_content': None}, {'url': 'https://abc.com/news/8d96bb37-bd59-4c28-a470-46f244f63b3b/category/3590742', 'title': 'Oscars 2025 Winners: Full List of the 97th Academy Awards Winners!', 'content': 'The Oscar winners 2025 complete list is here! ANORA\\\\xa0\\\\xa0**\\\\\\\\*\\\\\\\\*WINNER\\\\\\\\*\\\\\\\\*** Alex Coco, Samantha Quan and Sean Baker, Producers THE BRUTALIST Nick Gordon, Brian Young, Andrew Morrison, D.J. Gugenheim and Brady Corbet, Producers A COMPLETE UNKNOWN Fred Berger, James Mangold and Alex Heineman, Producers CONCLAVE Tessa Ross, Juliette Howell and Michael A. ANORA\\\\xa0**\\\\\\\\*\\\\\\\\*WINNER\\\\\\\\*\\\\\\\\*** Sean Baker THE BRUTALIST Brady Corbet A COMPLETE UNKNOWN James Mangold EMILIA P\\u00c9REZ Jacques Audiard THE SUBSTANCE Coralie Fargeat ANORA\\\\xa0\\\\xa0**\\\\\\\\*\\\\\\\\*WINNER\\\\\\\\*\\\\\\\\*** Sean Baker THE BRUTALIST David Jancso CONCLAVE Nick Emerson EMILIA P\\u00c9REZ Juliette Welfling WICKED Myron Kerstein A COMPLETE UNKNOWNScreenplay by James Mangold and Jay CocksCONCLAVE\\\\xa0**\\\\\\\\*\\\\\\\\*WINNER\\\\\\\\*\\\\\\\\*** Screenplay by Peter Straughan EMILIA P\\u00c9REZ Screenplay by Jacques Audiard; In collaboration with Thomas Bidegain, L\\u00e9a Mysius and Nicolas Livecchi NICKEL BOYS Screenplay by RaMell Ross & Joslyn Barnes SING SING Screenplay by Clint Bentley, Greg Kwedar; Story by Clint Bentley, Greg Kwedar, Clarence Maclin, John \\\"Divine G\\\" Whitfield', 'score': 0.96991, 'raw_content': None}], 'search_metadata': {'timestamp': '2025-10-11T23:01:01.203487', 'query': '2025 Oscar for International Movie winner'}}\", tool_calls = None)\n",
      " -> (role = assistant, content = The winner of the 2025 Oscar for Best International Feature Film was Brazil's *I'm Still Here*. Here are some key details:\n",
      "\n",
      "- **Film**: *I'm Still Here*\n",
      "- **Country**: Brazil\n",
      "- **Plot**: The film is based on a true story set in 1970s Rio de Janeiro during a military dictatorship.\n",
      "- **Notable Performance**: Fernanda Torres was nominated for her role as Eunice Paiva, and her mother, Fernanda Montenegro, also features in the film.\n",
      "\n",
      "For further details, you can visit the following sources:\n",
      "- [Oscars 2025 - Official Site](https://www.oscars.org/oscars/ceremonies/2025)\n",
      "- [NPR Article on the Film](https://www.npr.org/2025/03/02/nx-s1-5315313/oscars-2025-im-still-here-brazil-best-international-feature)\n",
      "- [Wikipedia - 97th Academy Awards](https://en.wikipedia.org/wiki/97th_Academy_Awards), tool_calls = None)\n"
     ]
    }
   ],
   "source": [
    "run1 = web_agent.invoke(\n",
    "    query=\"Who won the 2025 Oscar for International Movie?\", \n",
    ")\n",
    "\n",
    "print(\"\\nMessages from run 1:\")\n",
    "messages = run1.get_final_state()[\"messages\"]\n",
    "print_messages(messages)"
   ]
  },
  {
   "cell_type": "code",
   "execution_count": 14,
   "id": "cf73be45",
   "metadata": {},
   "outputs": [
    {
     "name": "stdout",
     "output_type": "stream",
     "text": [
      "The winner of the 2025 Oscar for Best International Feature Film was Brazil's *I'm Still Here*. Here are some key details:\n",
      "\n",
      "- **Film**: *I'm Still Here*\n",
      "- **Country**: Brazil\n",
      "- **Plot**: The film is based on a true story set in 1970s Rio de Janeiro during a military dictatorship.\n",
      "- **Notable Performance**: Fernanda Torres was nominated for her role as Eunice Paiva, and her mother, Fernanda Montenegro, also features in the film.\n",
      "\n",
      "For further details, you can visit the following sources:\n",
      "- [Oscars 2025 - Official Site](https://www.oscars.org/oscars/ceremonies/2025)\n",
      "- [NPR Article on the Film](https://www.npr.org/2025/03/02/nx-s1-5315313/oscars-2025-im-still-here-brazil-best-international-feature)\n",
      "- [Wikipedia - 97th Academy Awards](https://en.wikipedia.org/wiki/97th_Academy_Awards)\n"
     ]
    }
   ],
   "source": [
    "print(run1.get_final_state()[\"messages\"][-1].content)"
   ]
  },
  {
   "cell_type": "code",
   "execution_count": 15,
   "id": "65e6b006",
   "metadata": {},
   "outputs": [
    {
     "name": "stdout",
     "output_type": "stream",
     "text": [
      "[StateMachine] Starting: __entry__\n",
      "[StateMachine] Executing step: message_prep\n",
      "[StateMachine] Executing step: llm_processor\n",
      "[StateMachine] Executing step: tool_executor\n",
      "[StateMachine] Executing step: llm_processor\n",
      "[StateMachine] Terminating: __termination__\n",
      "\n",
      "Messages from run 2:\n",
      " -> (role = system, content = You are a helpful assistant. Use web_search for time-sensitive or factual queries. Return 3–5 concise bullets with source titles and URLs; include a brief synthesis if available., tool_calls = None)\n",
      " -> (role = user, content = Who won the 2025 Oscar for International Movie?, tool_calls = None)\n",
      " -> (role = assistant, content = None, tool_calls = [ChatCompletionMessageToolCall(id='call_FMPaJO6uWQxkkG5Bfm7MGAC8', function=Function(arguments='{\"query\":\"2025 Oscar for International Movie winner\",\"search_depth\":\"basic\",\"max_results\":5}', name='web_search'), type='function')])\n",
      " -> (role = tool, content = \"{'answer': 'Brazil\\\\'s \\\"I\\\\'m Still Here\\\" won the 2025 Oscar for Best International Feature Film. The film is based on a true story set in 1970s Rio de Janeiro. Fernanda Torres was nominated for an Oscar for her role.', 'results': [{'url': 'https://www.oscars.org/oscars/ceremonies/2025', 'title': 'The 97th Academy Awards | 2025 - Oscars.org', 'content': '*   [Academy Film Archive](https://www.oscars.org/film-archive \\\"Site section links\\\") *   [Academy Film Archive](https://www.oscars.org/film-archive \\\"Site section links\\\") [![Image 6: 97th Oscars host Conan O\\\\'Brien](https://www.oscars.org/sites/oscars_org/themes/custom/oscars_org/assets/images/placeholder.lazy-load.jpg)](https://www.oscars.org/sites/oscars/files/2025-03/97_PR_0054.JPG?VersionId=wNByJOtZbVypw5FYUCXRQDd4qjpPb8RG \\\"97th Oscars acting winners - Adrien Brody, Mikey Madison, Zoe Salda\\u00f1a, Kieran Culkin\\\") from Emilia P\\u00e9rez; Music by Cl\\u00e9ment Ducol and Camille; Lyric by Cl\\u00e9ment Ducol, Camille and Jacques Audiard from Emilia P\\u00e9rez; Music and Lyric by Camille and Cl\\u00e9ment Ducol from Elton John: Never Too Late; Music and Lyric by Elton John, Brandi Carlile, Andrew Watt and Bernie Taupin Alex Coco, Samantha Quan and Sean Baker, Producers Nick Gordon, Brian Young, Andrew Morrison, D.J. Gugenheim and Brady Corbet, Producers Fred Berger, James Mangold and Alex Heineman, Producers Pascal Caucheteux and Jacques Audiard, Producers Coralie Fargeat and Tim Bevan & Eric Fellner, Producers', 'score': 0.98593, 'raw_content': None}, {'url': 'https://www.youtube.com/watch?v=J4ngUjU9gO0', 'title': \\\"'I'm Still Here' Wins Best International Feature Film | 97th Oscars ...\\\", 'content': \\\"'I'm Still Here' Wins Best International Feature Film | 97th Oscars Speech (2025) \\u00b7 Comments.\\\", 'score': 0.98281, 'raw_content': None}, {'url': 'https://www.npr.org/2025/03/02/nx-s1-5315313/oscars-2025-im-still-here-brazil-best-international-feature', 'title': \\\"Oscars 2025: Brazil's 'I'm Still Here' wins best international feature\\\", 'content': \\\"**Oscars 2025: Brazil\\u2019s \\u2018I\\u2019m Still Here\\u2019 wins best international feature** **The film is based on a true story set in 1970s Rio de Janeiro, when Brazil was living under a military dictatorship.** # Brazil's 'I'm Still Here' wins best international feature at the Oscars *I'm Still Here* director Walter Salles, left, and star Fernanda Torres arrive at the Oscars on Sunday. **Richard Shotwell/Invision/AP**  ****hide caption**** Actress Fernanda Torres was also nominated for an Oscar for her leading role as Eunice Paiva. *I'm Still Here* also features Torres' real-life legendary mother, 95-year-old Fernanda Montenegro, who plays an older version of Paiva in the film. ### A family endures a dictatorship in the Oscar-nominated 'I'm Still Here'\\\", 'score': 0.97617, 'raw_content': None}, {'url': 'https://en.wikipedia.org/wiki/97th_Academy_Awards', 'title': '97th Academy Awards - Wikipedia', 'content': 'In a press release, AMPAS president Janet Yang and Academy CEO Bill Kramer \\\"Bill Kramer (executive)\\\") explained their decision in selecting the pair stating, \\\"Their love for cinema, their collective creative vision, and their unparalleled expertise in live television make them the perfect team to create an exceptional show for our global audience on the film industry\\\\'s biggest night.\\\" In response, Kapoor and Mullan released a statement saying, \\\"We are thrilled to lead the brilliant Oscars production team again and work alongside the Academy and Disney/ABC \\\"ABC News (United States)\\\") to help create an unforgettable night of television for movie lovers worldwide.\\\" The following month, comedian and former talk show host Conan O\\\\'Brien, who previously hosted two Primetime Emmy Awards telecasts in 2002 and 2006, was selected to host the 2025 gala.', 'score': 0.97289, 'raw_content': None}, {'url': 'https://abc.com/news/8d96bb37-bd59-4c28-a470-46f244f63b3b/category/3590742', 'title': 'Oscars 2025 Winners: Full List of the 97th Academy Awards Winners!', 'content': 'The Oscar winners 2025 complete list is here! ANORA\\\\xa0\\\\xa0**\\\\\\\\*\\\\\\\\*WINNER\\\\\\\\*\\\\\\\\*** Alex Coco, Samantha Quan and Sean Baker, Producers THE BRUTALIST Nick Gordon, Brian Young, Andrew Morrison, D.J. Gugenheim and Brady Corbet, Producers A COMPLETE UNKNOWN Fred Berger, James Mangold and Alex Heineman, Producers CONCLAVE Tessa Ross, Juliette Howell and Michael A. ANORA\\\\xa0**\\\\\\\\*\\\\\\\\*WINNER\\\\\\\\*\\\\\\\\*** Sean Baker THE BRUTALIST Brady Corbet A COMPLETE UNKNOWN James Mangold EMILIA P\\u00c9REZ Jacques Audiard THE SUBSTANCE Coralie Fargeat ANORA\\\\xa0\\\\xa0**\\\\\\\\*\\\\\\\\*WINNER\\\\\\\\*\\\\\\\\*** Sean Baker THE BRUTALIST David Jancso CONCLAVE Nick Emerson EMILIA P\\u00c9REZ Juliette Welfling WICKED Myron Kerstein A COMPLETE UNKNOWNScreenplay by James Mangold and Jay CocksCONCLAVE\\\\xa0**\\\\\\\\*\\\\\\\\*WINNER\\\\\\\\*\\\\\\\\*** Screenplay by Peter Straughan EMILIA P\\u00c9REZ Screenplay by Jacques Audiard; In collaboration with Thomas Bidegain, L\\u00e9a Mysius and Nicolas Livecchi NICKEL BOYS Screenplay by RaMell Ross & Joslyn Barnes SING SING Screenplay by Clint Bentley, Greg Kwedar; Story by Clint Bentley, Greg Kwedar, Clarence Maclin, John \\\"Divine G\\\" Whitfield', 'score': 0.96991, 'raw_content': None}], 'search_metadata': {'timestamp': '2025-10-11T23:01:01.203487', 'query': '2025 Oscar for International Movie winner'}}\", tool_calls = None)\n",
      " -> (role = assistant, content = The winner of the 2025 Oscar for Best International Feature Film was Brazil's *I'm Still Here*. Here are some key details:\n",
      "\n",
      "- **Film**: *I'm Still Here*\n",
      "- **Country**: Brazil\n",
      "- **Plot**: The film is based on a true story set in 1970s Rio de Janeiro during a military dictatorship.\n",
      "- **Notable Performance**: Fernanda Torres was nominated for her role as Eunice Paiva, and her mother, Fernanda Montenegro, also features in the film.\n",
      "\n",
      "For further details, you can visit the following sources:\n",
      "- [Oscars 2025 - Official Site](https://www.oscars.org/oscars/ceremonies/2025)\n",
      "- [NPR Article on the Film](https://www.npr.org/2025/03/02/nx-s1-5315313/oscars-2025-im-still-here-brazil-best-international-feature)\n",
      "- [Wikipedia - 97th Academy Awards](https://en.wikipedia.org/wiki/97th_Academy_Awards), tool_calls = None)\n",
      " -> (role = user, content = What are the most recent developments in AI technology?, tool_calls = None)\n",
      " -> (role = assistant, content = None, tool_calls = [ChatCompletionMessageToolCall(id='call_G1fdbKL4QotIZeH0ES1rkpcZ', function=Function(arguments='{\"query\":\"recent developments in AI technology 2023\",\"search_depth\":\"basic\",\"max_results\":5}', name='web_search'), type='function')])\n",
      " -> (role = tool, content = \"{'answer': 'In 2023, generative AI saw significant growth, while automated machine learning and natural language processing advanced. The year also saw increased business experimentation with AI.', 'results': [{'url': 'https://www.forbes.com/sites/nishatalagala/2024/01/31/top-ai-developments-of-2023/', 'title': 'Top AI Developments of 2023 and what to expect in 2024 - Forbes', 'content': '3 consequential AI developments in 2023 - that will further drive transformation in 2024. The AI Flywheel, AI Literacy, and AI Regulation.', 'score': 0.85995835, 'raw_content': None}, {'url': 'https://fullscale.io/blog/ai-development-trends-2023/', 'title': '6 Biggest AI Development Trends to Watch in 2023 - Full Scale', 'content': 'Take Note of These AI Development Trends in 2023 \\u00b7 1. Automated Machine Learning (AutoML) \\u00b7 2. Generative AI \\u00b7 3. Natural Language Processing (NLP).', 'score': 0.8449346, 'raw_content': None}, {'url': 'https://www.technologyreview.com/2023/12/19/1085696/four-trends-that-changed-ai-in-2023/', 'title': 'Four trends that changed AI in 2023 | MIT Technology Review', 'content': 'In an exciting counter-offensive, researchers at the University of Chicago developed Nightshade, a new data-poisoning tool that lets artists', 'score': 0.7336813, 'raw_content': None}, {'url': 'https://www.bakertilly.com/insights/ai-trends-2023-recap-and-insights-for-whats-to-come', 'title': \\\"AI trends: 2023 recap and insights for what's to come | Baker Tilly\\\", 'content': 'Business adoption: Although consumer genAI applications grabbed headlines, 2023 also saw increased business experimentation.', 'score': 0.73138535, 'raw_content': None}, {'url': 'https://www.mckinsey.com/capabilities/quantumblack/our-insights/the-state-of-ai-in-2023-generative-ais-breakout-year', 'title': \\\"The state of AI in 2023: Generative AI's breakout year | McKinsey\\\", 'content': 'The latest annual McKinsey Global Survey on the current state of AI confirms the explosive growth of generative AI (gen AI) tools.', 'score': 0.72231215, 'raw_content': None}], 'search_metadata': {'timestamp': '2025-10-11T23:01:11.225810', 'query': 'recent developments in AI technology 2023'}}\", tool_calls = None)\n",
      " -> (role = assistant, content = Recent developments in AI technology as of 2023 include several notable trends and advancements:\n",
      "\n",
      "- **Generative AI Growth**: There has been explosive growth in generative AI, which includes tools and applications that create content, such as text, images, and music.\n",
      "- **Automated Machine Learning (AutoML)**: This trend allows organizations to automate the process of applying machine learning to real-world problems, making AI more accessible.\n",
      "- **Natural Language Processing (NLP) Advancements**: Significant improvements have been made in NLP technologies, enabling better understanding and generation of human language.\n",
      "- **Increased Business Adoption**: Businesses have experimented more with AI technologies, integrating them into various processes beyond consumer-facing applications.\n",
      "- **AI Regulation and Literacy**: There is a growing focus on AI literacy and regulatory frameworks to address ethical and practical concerns related to AI technologies.\n",
      "\n",
      "For more detailed information, you can explore these sources:\n",
      "- [Forbes on AI Developments in 2023](https://www.forbes.com/sites/nishatalagala/2024/01/31/top-ai-developments-of-2023/)\n",
      "- [Full Scale on AI Development Trends](https://fullscale.io/blog/ai-development-trends-2023/)\n",
      "- [MIT Technology Review on AI Trends](https://www.technologyreview.com/2023/12/19/1085696/four-trends-that-changed-ai-in-2023/)\n",
      "- [Baker Tilly Insights on AI Trends](https://www.bakertilly.com/insights/ai-trends-2023-recap-and-insights-for-whats-to-come)\n",
      "- [McKinsey on the State of AI in 2023](https://www.mckinsey.com/capabilities/quantumblack/our-insights/the-state-of-ai-in-2023-generative-ais-breakout-year), tool_calls = None)\n"
     ]
    }
   ],
   "source": [
    "run2 = web_agent.invoke(\n",
    "    query=\"What are the most recent developments in AI technology?\", \n",
    ")\n",
    "print(\"\\nMessages from run 2:\")\n",
    "messages = run2.get_final_state()[\"messages\"]\n",
    "print_messages(messages)"
   ]
  },
  {
   "cell_type": "code",
   "execution_count": 16,
   "id": "59054976",
   "metadata": {},
   "outputs": [
    {
     "name": "stdout",
     "output_type": "stream",
     "text": [
      "Recent developments in AI technology as of 2023 include several notable trends and advancements:\n",
      "\n",
      "- **Generative AI Growth**: There has been explosive growth in generative AI, which includes tools and applications that create content, such as text, images, and music.\n",
      "- **Automated Machine Learning (AutoML)**: This trend allows organizations to automate the process of applying machine learning to real-world problems, making AI more accessible.\n",
      "- **Natural Language Processing (NLP) Advancements**: Significant improvements have been made in NLP technologies, enabling better understanding and generation of human language.\n",
      "- **Increased Business Adoption**: Businesses have experimented more with AI technologies, integrating them into various processes beyond consumer-facing applications.\n",
      "- **AI Regulation and Literacy**: There is a growing focus on AI literacy and regulatory frameworks to address ethical and practical concerns related to AI technologies.\n",
      "\n",
      "For more detailed information, you can explore these sources:\n",
      "- [Forbes on AI Developments in 2023](https://www.forbes.com/sites/nishatalagala/2024/01/31/top-ai-developments-of-2023/)\n",
      "- [Full Scale on AI Development Trends](https://fullscale.io/blog/ai-development-trends-2023/)\n",
      "- [MIT Technology Review on AI Trends](https://www.technologyreview.com/2023/12/19/1085696/four-trends-that-changed-ai-in-2023/)\n",
      "- [Baker Tilly Insights on AI Trends](https://www.bakertilly.com/insights/ai-trends-2023-recap-and-insights-for-whats-to-come)\n",
      "- [McKinsey on the State of AI in 2023](https://www.mckinsey.com/capabilities/quantumblack/our-insights/the-state-of-ai-in-2023-generative-ais-breakout-year)\n"
     ]
    }
   ],
   "source": [
    "print(run2.get_final_state()[\"messages\"][-1].content)"
   ]
  },
  {
   "cell_type": "markdown",
   "id": "89e2055c",
   "metadata": {},
   "source": [
    "## Advanced"
   ]
  },
  {
   "cell_type": "markdown",
   "id": "5478d183",
   "metadata": {},
   "source": [
    "You can modify `agents.py` to include: \n",
    "- a comparison field in the state schema\n",
    "- a web search step\n",
    "- a comparison step in the workflow"
   ]
  }
 ],
 "metadata": {
  "kernelspec": {
   "display_name": "Python 3 (ipykernel)",
   "language": "python",
   "name": "python3"
  },
  "language_info": {
   "codemirror_mode": {
    "name": "ipython",
    "version": 3
   },
   "file_extension": ".py",
   "mimetype": "text/x-python",
   "name": "python",
   "nbconvert_exporter": "python",
   "pygments_lexer": "ipython3",
   "version": "3.13.1"
  }
 },
 "nbformat": 4,
 "nbformat_minor": 5
}
