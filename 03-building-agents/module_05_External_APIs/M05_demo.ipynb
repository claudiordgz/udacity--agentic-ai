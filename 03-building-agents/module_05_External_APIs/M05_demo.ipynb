{
 "cells": [
  {
   "cell_type": "markdown",
   "id": "264e6c14",
   "metadata": {},
   "source": [
    "# Module 05: External APIs\n",
    "This notebook demonstrates how to call real APIs."
   ]
  },
  {
   "cell_type": "markdown",
   "id": "b6e5ca62",
   "metadata": {},
   "source": [
    "## What we'll learn:\n",
    "- GET\n",
    "- POST\n",
    "- PUT\n",
    "- API Key\n",
    "- Status Codes"
   ]
  },
  {
   "cell_type": "markdown",
   "id": "dcecd715",
   "metadata": {},
   "source": [
    "### Setup"
   ]
  },
  {
   "cell_type": "code",
   "execution_count": 1,
   "id": "e2370d23-5a78-4754-b599-ee7ed4513c14",
   "metadata": {},
   "outputs": [],
   "source": [
    "from pathlib import Path\n",
    "import sys\n",
    "\n",
    "nb_dir = Path(__file__).parent if \"__file__\" in globals() else Path.cwd()\n",
    "parent = nb_dir.parent  # points to 03-building-agents\n",
    "if str(parent) not in sys.path:\n",
    "    sys.path.insert(0, str(parent))"
   ]
  },
  {
   "cell_type": "code",
   "execution_count": 2,
   "id": "2aafeb1d",
   "metadata": {},
   "outputs": [],
   "source": [
    "import os\n",
    "import requests\n",
    "from dotenv import load_dotenv"
   ]
  },
  {
   "cell_type": "code",
   "execution_count": 3,
   "id": "b77b4337",
   "metadata": {},
   "outputs": [
    {
     "data": {
      "text/plain": [
       "False"
      ]
     },
     "execution_count": 3,
     "metadata": {},
     "output_type": "execute_result"
    }
   ],
   "source": [
    "load_dotenv()"
   ]
  },
  {
   "cell_type": "markdown",
   "id": "bdeee6bb",
   "metadata": {},
   "source": [
    "## GET REQUEST"
   ]
  },
  {
   "cell_type": "markdown",
   "id": "27fd4cb2",
   "metadata": {},
   "source": [
    "**Game of Thrones**"
   ]
  },
  {
   "cell_type": "code",
   "execution_count": 4,
   "id": "20478fa2",
   "metadata": {},
   "outputs": [],
   "source": [
    "URL = \"https://api.gameofthronesquotes.xyz/v1/random\"\n",
    "\n",
    "response = requests.get(url=URL)"
   ]
  },
  {
   "cell_type": "code",
   "execution_count": 5,
   "id": "6ac2784f",
   "metadata": {},
   "outputs": [
    {
     "data": {
      "text/plain": [
       "<Response [200]>"
      ]
     },
     "execution_count": 5,
     "metadata": {},
     "output_type": "execute_result"
    }
   ],
   "source": [
    "response"
   ]
  },
  {
   "cell_type": "code",
   "execution_count": 6,
   "id": "0d84a1ac",
   "metadata": {},
   "outputs": [
    {
     "data": {
      "text/plain": [
       "{'sentence': 'A lion does not concern himself with the opinion of sheep.',\n",
       " 'character': {'name': 'Tywin Lannister',\n",
       "  'slug': 'tywin',\n",
       "  'house': {'name': 'House Lannister of Casterly Rock', 'slug': 'lannister'}}}"
      ]
     },
     "execution_count": 6,
     "metadata": {},
     "output_type": "execute_result"
    }
   ],
   "source": [
    "response.json()"
   ]
  },
  {
   "cell_type": "markdown",
   "id": "d1f21aa0",
   "metadata": {},
   "source": [
    "**Open Weather**"
   ]
  },
  {
   "cell_type": "code",
   "execution_count": 7,
   "id": "934594a0",
   "metadata": {},
   "outputs": [],
   "source": [
    "BASE_URL = \"https://api.openweathermap.org/data/2.5/weather\"\n",
    "API_KEY = os.getenv(\"OPENWEATHER_API_KEY\")\n",
    "CITY = \"Sao Paulo\"\n",
    "\n",
    "URL = f\"{BASE_URL}?appid={API_KEY}&q={CITY}&units=metric\"\n",
    "\n",
    "response = requests.get(\n",
    "    url=URL,\n",
    ")"
   ]
  },
  {
   "cell_type": "code",
   "execution_count": 8,
   "id": "e77c52f6",
   "metadata": {},
   "outputs": [
    {
     "data": {
      "text/plain": [
       "<Response [200]>"
      ]
     },
     "execution_count": 8,
     "metadata": {},
     "output_type": "execute_result"
    }
   ],
   "source": [
    "response"
   ]
  },
  {
   "cell_type": "code",
   "execution_count": 9,
   "id": "78e96794",
   "metadata": {},
   "outputs": [
    {
     "data": {
      "text/plain": [
       "{'coord': {'lon': -46.6361, 'lat': -23.5475},\n",
       " 'weather': [{'id': 803,\n",
       "   'main': 'Clouds',\n",
       "   'description': 'broken clouds',\n",
       "   'icon': '04d'}],\n",
       " 'base': 'stations',\n",
       " 'main': {'temp': 23.09,\n",
       "  'feels_like': 23.1,\n",
       "  'temp_min': 23.09,\n",
       "  'temp_max': 23.09,\n",
       "  'pressure': 1014,\n",
       "  'humidity': 63,\n",
       "  'sea_level': 1014,\n",
       "  'grnd_level': 924},\n",
       " 'visibility': 10000,\n",
       " 'wind': {'speed': 3.4, 'deg': 174, 'gust': 2.72},\n",
       " 'clouds': {'all': 75},\n",
       " 'dt': 1760211559,\n",
       " 'sys': {'country': 'BR', 'sunrise': 1760171814, 'sunset': 1760216954},\n",
       " 'timezone': -10800,\n",
       " 'id': 3448439,\n",
       " 'name': 'São Paulo',\n",
       " 'cod': 200}"
      ]
     },
     "execution_count": 9,
     "metadata": {},
     "output_type": "execute_result"
    }
   ],
   "source": [
    "response.json()"
   ]
  },
  {
   "cell_type": "markdown",
   "id": "b77db1b7",
   "metadata": {},
   "source": [
    "**Exchange Rate API**"
   ]
  },
  {
   "cell_type": "code",
   "execution_count": 23,
   "id": "bbc23ed2",
   "metadata": {},
   "outputs": [],
   "source": [
    "BASE_URL = \"https://v6.exchangerate-api.com/v6\"\n",
    "API_KEY = os.getenv(\"EXCHANGERATE_API_KEY\")\n",
    "CURRENCY = \"USD\"\n",
    "\n",
    "URL = f\"{BASE_URL}/{API_KEY}/latest/{CURRENCY}\"\n",
    "\n",
    "response = requests.get(\n",
    "    url=URL,\n",
    ")"
   ]
  },
  {
   "cell_type": "code",
   "execution_count": 24,
   "id": "32a3c8f8",
   "metadata": {},
   "outputs": [
    {
     "data": {
      "text/plain": [
       "<Response [200]>"
      ]
     },
     "execution_count": 24,
     "metadata": {},
     "output_type": "execute_result"
    }
   ],
   "source": [
    "response"
   ]
  },
  {
   "cell_type": "code",
   "execution_count": 25,
   "id": "81f52056",
   "metadata": {},
   "outputs": [
    {
     "data": {
      "text/plain": [
       "{'result': 'success',\n",
       " 'documentation': 'https://www.exchangerate-api.com/docs',\n",
       " 'terms_of_use': 'https://www.exchangerate-api.com/terms',\n",
       " 'time_last_update_unix': 1760140801,\n",
       " 'time_last_update_utc': 'Sat, 11 Oct 2025 00:00:01 +0000',\n",
       " 'time_next_update_unix': 1760227201,\n",
       " 'time_next_update_utc': 'Sun, 12 Oct 2025 00:00:01 +0000',\n",
       " 'base_code': 'USD',\n",
       " 'conversion_rates': {'USD': 1,\n",
       "  'AED': 3.6725,\n",
       "  'AFN': 66.5379,\n",
       "  'ALL': 83.1736,\n",
       "  'AMD': 382.7482,\n",
       "  'ANG': 1.79,\n",
       "  'AOA': 923.7513,\n",
       "  'ARS': 1451.75,\n",
       "  'AUD': 1.5359,\n",
       "  'AWG': 1.79,\n",
       "  'AZN': 1.7001,\n",
       "  'BAM': 1.6854,\n",
       "  'BBD': 2.0,\n",
       "  'BDT': 121.8019,\n",
       "  'BGN': 1.686,\n",
       "  'BHD': 0.376,\n",
       "  'BIF': 2950.9912,\n",
       "  'BMD': 1.0,\n",
       "  'BND': 1.2978,\n",
       "  'BOB': 6.9261,\n",
       "  'BRL': 5.3717,\n",
       "  'BSD': 1.0,\n",
       "  'BTN': 88.748,\n",
       "  'BWP': 13.9337,\n",
       "  'BYN': 3.1293,\n",
       "  'BZD': 2.0,\n",
       "  'CAD': 1.4004,\n",
       "  'CDF': 2502.0835,\n",
       "  'CHF': 0.8018,\n",
       "  'CLP': 950.7734,\n",
       "  'CNY': 7.1364,\n",
       "  'COP': 3879.0865,\n",
       "  'CRC': 503.3107,\n",
       "  'CUP': 24.0,\n",
       "  'CVE': 95.0198,\n",
       "  'CZK': 20.9921,\n",
       "  'DJF': 177.721,\n",
       "  'DKK': 6.4355,\n",
       "  'DOP': 62.7469,\n",
       "  'DZD': 130.0822,\n",
       "  'EGP': 47.5634,\n",
       "  'ERN': 15.0,\n",
       "  'ETB': 145.1287,\n",
       "  'EUR': 0.8617,\n",
       "  'FJD': 2.2591,\n",
       "  'FKP': 0.7503,\n",
       "  'FOK': 6.4354,\n",
       "  'GBP': 0.7503,\n",
       "  'GEL': 2.7105,\n",
       "  'GGP': 0.7503,\n",
       "  'GHS': 12.1974,\n",
       "  'GIP': 0.7503,\n",
       "  'GMD': 73.445,\n",
       "  'GNF': 8683.0841,\n",
       "  'GTQ': 7.6626,\n",
       "  'GYD': 209.1612,\n",
       "  'HKD': 7.782,\n",
       "  'HNL': 26.2506,\n",
       "  'HRK': 6.4928,\n",
       "  'HTG': 131.0231,\n",
       "  'HUF': 337.6537,\n",
       "  'IDR': 16562.7385,\n",
       "  'ILS': 3.2835,\n",
       "  'IMP': 0.7503,\n",
       "  'INR': 88.748,\n",
       "  'IQD': 1310.294,\n",
       "  'IRR': 42208.3981,\n",
       "  'ISK': 122.2389,\n",
       "  'JEP': 0.7503,\n",
       "  'JMD': 160.7175,\n",
       "  'JOD': 0.709,\n",
       "  'JPY': 151.8035,\n",
       "  'KES': 129.2113,\n",
       "  'KGS': 87.2935,\n",
       "  'KHR': 4015.9375,\n",
       "  'KID': 1.5358,\n",
       "  'KMF': 423.9486,\n",
       "  'KRW': 1423.1979,\n",
       "  'KWD': 0.3068,\n",
       "  'KYD': 0.8333,\n",
       "  'KZT': 538.3794,\n",
       "  'LAK': 21726.6717,\n",
       "  'LBP': 89500.0,\n",
       "  'LKR': 302.6076,\n",
       "  'LRD': 182.1009,\n",
       "  'LSL': 17.3761,\n",
       "  'LYD': 5.4297,\n",
       "  'MAD': 9.1414,\n",
       "  'MDL': 16.9359,\n",
       "  'MGA': 4472.9503,\n",
       "  'MKD': 53.091,\n",
       "  'MMK': 2103.061,\n",
       "  'MNT': 3575.0827,\n",
       "  'MOP': 8.0154,\n",
       "  'MRU': 40.0612,\n",
       "  'MUR': 45.6595,\n",
       "  'MVR': 15.4377,\n",
       "  'MWK': 1745.1044,\n",
       "  'MXN': 18.5179,\n",
       "  'MYR': 4.2213,\n",
       "  'MZN': 63.6756,\n",
       "  'NAD': 17.3761,\n",
       "  'NGN': 1460.3024,\n",
       "  'NIO': 36.7968,\n",
       "  'NOK': 10.1135,\n",
       "  'NPR': 141.9967,\n",
       "  'NZD': 1.745,\n",
       "  'OMR': 0.3845,\n",
       "  'PAB': 1.0,\n",
       "  'PEN': 3.4377,\n",
       "  'PGK': 4.2231,\n",
       "  'PHP': 58.2983,\n",
       "  'PKR': 283.4364,\n",
       "  'PLN': 3.673,\n",
       "  'PYG': 6966.8171,\n",
       "  'QAR': 3.64,\n",
       "  'RON': 4.3973,\n",
       "  'RSD': 100.8627,\n",
       "  'RUB': 81.3229,\n",
       "  'RWF': 1453.0335,\n",
       "  'SAR': 3.75,\n",
       "  'SBD': 8.2345,\n",
       "  'SCR': 14.832,\n",
       "  'SDG': 510.2193,\n",
       "  'SEK': 9.5148,\n",
       "  'SGD': 1.2977,\n",
       "  'SHP': 0.7503,\n",
       "  'SLE': 23.2862,\n",
       "  'SLL': 23286.1746,\n",
       "  'SOS': 571.0386,\n",
       "  'SRD': 38.0982,\n",
       "  'SSP': 4705.4344,\n",
       "  'STN': 21.1126,\n",
       "  'SYP': 12895.5293,\n",
       "  'SZL': 17.3761,\n",
       "  'THB': 32.69,\n",
       "  'TJS': 9.3635,\n",
       "  'TMT': 3.4996,\n",
       "  'TND': 2.9362,\n",
       "  'TOP': 2.3684,\n",
       "  'TRY': 41.8296,\n",
       "  'TTD': 6.7631,\n",
       "  'TVD': 1.5358,\n",
       "  'TWD': 30.5966,\n",
       "  'TZS': 2437.7935,\n",
       "  'UAH': 41.6273,\n",
       "  'UGX': 3402.898,\n",
       "  'UYU': 39.9219,\n",
       "  'UZS': 12133.8243,\n",
       "  'VES': 195.2491,\n",
       "  'VND': 26286.7096,\n",
       "  'VUV': 121.2046,\n",
       "  'WST': 2.7572,\n",
       "  'XAF': 565.2648,\n",
       "  'XCD': 2.7,\n",
       "  'XCG': 1.79,\n",
       "  'XDR': 0.735,\n",
       "  'XOF': 565.2648,\n",
       "  'XPF': 102.8332,\n",
       "  'YER': 238.9688,\n",
       "  'ZAR': 17.377,\n",
       "  'ZMW': 23.1113,\n",
       "  'ZWL': 26.7102}}"
      ]
     },
     "execution_count": 25,
     "metadata": {},
     "output_type": "execute_result"
    }
   ],
   "source": [
    "response.json()"
   ]
  },
  {
   "cell_type": "markdown",
   "id": "8b9c9987",
   "metadata": {},
   "source": [
    "## POST & PUT"
   ]
  },
  {
   "cell_type": "markdown",
   "id": "b2bd2b16",
   "metadata": {},
   "source": [
    "**JSON PLACEHOLDER**"
   ]
  },
  {
   "cell_type": "markdown",
   "id": "85c80f71",
   "metadata": {},
   "source": [
    "Creating a new resource"
   ]
  },
  {
   "cell_type": "code",
   "execution_count": 13,
   "id": "8e481a7c",
   "metadata": {},
   "outputs": [],
   "source": [
    "URL = \"https://jsonplaceholder.typicode.com/posts\"\n",
    "DATA = {\n",
    "    \"title\": \"Building Agents\",\n",
    "    \"author\": \"Henrique Santana\",\n",
    "}\n",
    "\n",
    "response = requests.post(\n",
    "    url=URL,\n",
    "    data=DATA,\n",
    ")"
   ]
  },
  {
   "cell_type": "code",
   "execution_count": 14,
   "id": "e990132d",
   "metadata": {},
   "outputs": [
    {
     "data": {
      "text/plain": [
       "<Response [201]>"
      ]
     },
     "execution_count": 14,
     "metadata": {},
     "output_type": "execute_result"
    }
   ],
   "source": [
    "response"
   ]
  },
  {
   "cell_type": "code",
   "execution_count": 15,
   "id": "005b8e9a",
   "metadata": {},
   "outputs": [
    {
     "data": {
      "text/plain": [
       "{'title': 'Building Agents', 'author': 'Henrique Santana', 'id': 101}"
      ]
     },
     "execution_count": 15,
     "metadata": {},
     "output_type": "execute_result"
    }
   ],
   "source": [
    "response.json()"
   ]
  },
  {
   "cell_type": "markdown",
   "id": "4bfb0386",
   "metadata": {},
   "source": [
    "Getting Resource"
   ]
  },
  {
   "cell_type": "code",
   "execution_count": 16,
   "id": "81e40bd3",
   "metadata": {},
   "outputs": [],
   "source": [
    "URL = \"https://jsonplaceholder.typicode.com/posts/1\"\n",
    "\n",
    "response = requests.get(\n",
    "    url=URL,\n",
    ")"
   ]
  },
  {
   "cell_type": "code",
   "execution_count": 17,
   "id": "380be995",
   "metadata": {},
   "outputs": [
    {
     "data": {
      "text/plain": [
       "<Response [200]>"
      ]
     },
     "execution_count": 17,
     "metadata": {},
     "output_type": "execute_result"
    }
   ],
   "source": [
    "response"
   ]
  },
  {
   "cell_type": "code",
   "execution_count": 18,
   "id": "b978a916",
   "metadata": {},
   "outputs": [
    {
     "data": {
      "text/plain": [
       "{'userId': 1,\n",
       " 'id': 1,\n",
       " 'title': 'sunt aut facere repellat provident occaecati excepturi optio reprehenderit',\n",
       " 'body': 'quia et suscipit\\nsuscipit recusandae consequuntur expedita et cum\\nreprehenderit molestiae ut ut quas totam\\nnostrum rerum est autem sunt rem eveniet architecto'}"
      ]
     },
     "execution_count": 18,
     "metadata": {},
     "output_type": "execute_result"
    }
   ],
   "source": [
    "response.json()"
   ]
  },
  {
   "cell_type": "markdown",
   "id": "c4dbe3da",
   "metadata": {},
   "source": [
    "Updating that resource"
   ]
  },
  {
   "cell_type": "code",
   "execution_count": 19,
   "id": "8961dff0",
   "metadata": {},
   "outputs": [],
   "source": [
    "URL = \"https://jsonplaceholder.typicode.com/posts/1\"\n",
    "DATA = {\n",
    "    \"title\": \"New title\",\n",
    "    \"body\": \"New body\",\n",
    "}\n",
    "\n",
    "response = requests.put(\n",
    "    url=URL,\n",
    "    data=DATA,\n",
    ")"
   ]
  },
  {
   "cell_type": "code",
   "execution_count": 20,
   "id": "c84a4ef9",
   "metadata": {},
   "outputs": [
    {
     "data": {
      "text/plain": [
       "<Response [200]>"
      ]
     },
     "execution_count": 20,
     "metadata": {},
     "output_type": "execute_result"
    }
   ],
   "source": [
    "response"
   ]
  },
  {
   "cell_type": "code",
   "execution_count": 21,
   "id": "dbe31acb",
   "metadata": {},
   "outputs": [
    {
     "data": {
      "text/plain": [
       "{'title': 'New title', 'body': 'New body', 'id': 1}"
      ]
     },
     "execution_count": 21,
     "metadata": {},
     "output_type": "execute_result"
    }
   ],
   "source": [
    "response.json()"
   ]
  },
  {
   "cell_type": "code",
   "execution_count": null,
   "id": "ccbd8900",
   "metadata": {},
   "outputs": [],
   "source": []
  }
 ],
 "metadata": {
  "kernelspec": {
   "display_name": "Python 3 (ipykernel)",
   "language": "python",
   "name": "python3"
  },
  "language_info": {
   "codemirror_mode": {
    "name": "ipython",
    "version": 3
   },
   "file_extension": ".py",
   "mimetype": "text/x-python",
   "name": "python",
   "nbconvert_exporter": "python",
   "pygments_lexer": "ipython3",
   "version": "3.13.1"
  }
 },
 "nbformat": 4,
 "nbformat_minor": 5
}
